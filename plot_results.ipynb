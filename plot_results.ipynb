{
 "cells": [
  {
   "attachments": {},
   "cell_type": "markdown",
   "id": "ee11b763",
   "metadata": {},
   "source": [
    "## Plot results"
   ]
  },
  {
   "attachments": {},
   "cell_type": "markdown",
   "id": "c14eb611",
   "metadata": {},
   "source": [
    "The purpose of this notebook is to visualize models' performances singlehandedly and/or with respect to each other's. It expects the selected models to have already gone through training using the `run_exp_script.py` script."
   ]
  },
  {
   "cell_type": "code",
   "execution_count": null,
   "id": "065c3f05",
   "metadata": {},
   "outputs": [],
   "source": [
    "%load_ext autoreload\n",
    "%autoreload 2\n",
    "import pickle\n",
    "import pandas as pd\n",
    "import seaborn as sns\n",
    "from utils import plot_utils as plot"
   ]
  },
  {
   "attachments": {},
   "cell_type": "markdown",
   "id": "7608f0e8",
   "metadata": {},
   "source": [
    "### Single Model Plot"
   ]
  },
  {
   "cell_type": "code",
   "execution_count": null,
   "id": "2f45dd77",
   "metadata": {},
   "outputs": [],
   "source": [
    "RESULT_PATH = 'models/results/rn18_ms_e2e_l7_yeh_fold'\n",
    "# Load Results\n",
    "with open(RESULT_PATH, 'rb') as f:\n",
    "    results = pickle.load(f)"
   ]
  },
  {
   "cell_type": "code",
   "execution_count": null,
   "id": "571bb0f9",
   "metadata": {},
   "outputs": [],
   "source": [
    "# Load Data \n",
    "test_dataset = ...\n",
    "# Load Full Model\n",
    "model = ..."
   ]
  },
  {
   "attachments": {},
   "cell_type": "markdown",
   "id": "7a9cb997",
   "metadata": {},
   "source": [
    "**Cross-Val R2**"
   ]
  },
  {
   "cell_type": "code",
   "execution_count": null,
   "id": "a560548f",
   "metadata": {},
   "outputs": [],
   "source": [
    "results['Average R2'] = ...\n",
    "df = pd.DataFrame.from_dict(results)\n",
    "sns.lineplot(data=df, x=\"index\", y=\"Average R2\")"
   ]
  },
  {
   "attachments": {},
   "cell_type": "markdown",
   "id": "5d892b42",
   "metadata": {},
   "source": [
    "**Old vs. New**"
   ]
  },
  {
   "cell_type": "code",
   "execution_count": null,
   "id": "74424028",
   "metadata": {},
   "outputs": [],
   "source": []
  },
  {
   "attachments": {},
   "cell_type": "markdown",
   "id": "52195094",
   "metadata": {},
   "source": [
    "**Per Country R2**"
   ]
  },
  {
   "cell_type": "code",
   "execution_count": null,
   "id": "ba331ceb",
   "metadata": {},
   "outputs": [],
   "source": []
  },
  {
   "attachments": {},
   "cell_type": "markdown",
   "id": "525c9b2d",
   "metadata": {},
   "source": [
    "### Multi Model Plot"
   ]
  },
  {
   "cell_type": "markdown",
   "id": "3d221075",
   "metadata": {},
   "source": []
  }
 ],
 "metadata": {
  "kernelspec": {
   "display_name": "mpa_env",
   "language": "python",
   "name": "python3"
  },
  "language_info": {
   "codemirror_mode": {
    "name": "ipython",
    "version": 3
   },
   "file_extension": ".py",
   "mimetype": "text/x-python",
   "name": "python",
   "nbconvert_exporter": "python",
   "pygments_lexer": "ipython3",
   "version": "3.10.10"
  },
  "vscode": {
   "interpreter": {
    "hash": "01ed5c42258d104453582e2fee2faf5d01150c2a161fd6cc7123c0fdfe444c60"
   }
  }
 },
 "nbformat": 4,
 "nbformat_minor": 5
}
