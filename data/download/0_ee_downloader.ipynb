{
 "cells": [
  {
   "cell_type": "markdown",
   "id": "43a7e073",
   "metadata": {},
   "source": [
    "## DOWNLOAD DATA WITH EARTH-ENGINE\n",
    "> Downloading Landsat imagery with earth-engine"
   ]
  },
  {
   "cell_type": "code",
   "execution_count": 3,
   "id": "d17e9dcb",
   "metadata": {},
   "outputs": [],
   "source": [
    "# import ee\n",
    "import os\n",
    "import pandas as pd"
   ]
  },
  {
   "cell_type": "code",
   "execution_count": null,
   "id": "7999f5fe",
   "metadata": {},
   "outputs": [],
   "source": [
    "try:\n",
    "        ee.Initialize()\n",
    "except Exception as e:\n",
    "        ee.Authenticate()\n",
    "        ee.Initialize()"
   ]
  },
  {
   "cell_type": "code",
   "execution_count": null,
   "id": "a02ca789",
   "metadata": {},
   "outputs": [],
   "source": [
    "NAME=\"wealth_index.csv\"\n",
    "S2 = ee.ImageCollection('COPERNICUS/S2_SR_HARMONIZED')\n",
    "PATH=os.path.join(\"..\", NAME)\n",
    "BANDS=['B4','B3','B2','B1','B5','B6','B7','B8']\n",
    "CLOUD_COVER = 1\n",
    "DIST=6200\n",
    "OUTPUT_FOLDER='s2_export'"
   ]
  },
  {
   "cell_type": "code",
   "execution_count": 5,
   "id": "c0f5133d",
   "metadata": {},
   "outputs": [],
   "source": [
    "data=pd.read_csv(PATH)"
   ]
  },
  {
   "cell_type": "markdown",
   "id": "91c85e34",
   "metadata": {},
   "source": [
    "**We loop over each area of interest (AOI) and download the least cloudy corresponding scene from Sentinel-2**"
   ]
  },
  {
   "cell_type": "code",
   "execution_count": null,
   "id": "a428b1be",
   "metadata": {},
   "outputs": [],
   "source": [
    "for country in data[\"country\"].unique():\n",
    "    curr_country = data[ data[\"country\"] == country ]\n",
    "    for year in curr_country[\"year\"].unique():\n",
    "        curr_year = curr_country[ data[\"year\"] == year ]\n",
    "        for _, row in curr_year.iterrows():\n",
    "            aoi = ee.Geometry.Point(row['lat'], row['lon']).buffer(DIST)\n",
    "            start_date = str(year)+'-01-01'\n",
    "            end_date   = str(year)+'-12-31'\n",
    "            filtered_collection = S2.filterBounds(aoi).filterDate(start_date, end_date).filter(ee.Filter.lt('CLOUDY_PIXEL_PERCENTAGE',1))\n",
    "            mosaic = filtered_collection.median().select(BANDS).clip(aoi)\n",
    "            task = ee.batch.Export.image.toDrive(image=mosaic,\n",
    "                                     description='S2_tile_'+year+'_'+country,\n",
    "                                     scale=30,\n",
    "                                     region=aoi,\n",
    "                                     fileNamePrefix=aoi+year+'_'+country,\n",
    "                                     crs='EPSG:4326',\n",
    "                                     fileFormat='GeoTIFF')\n",
    "            task.start()\n"
   ]
  },
  {
   "cell_type": "code",
   "execution_count": null,
   "id": "099c97f6",
   "metadata": {},
   "outputs": [],
   "source": [
    "# sentinel = ee.ImageCollection('COPERNICUS/S2_SR') \\\n",
    "#     .filterDate('2020-04-01','2021-10-01') \\\n",
    "#     .filterBounds(geometry) \\\n",
    "#     .map(clipcol) \\\n",
    "#     .filter(ee.Filter.lt('CLOUDY_PIXEL_PERCENTAGE', 10)) \n",
    "\n",
    "# ndvi = sentinel.map(calculateNDVI)\n",
    "# maxNDVI = ndvi.max()\n",
    "# geemap.ee_export_image(maxNDVI, \n",
    "#                        filename= maxNDVI.tif,\n",
    "#                        scale = 10, region = geometry, file_per_band=False,\n",
    "#                        crs = 'EPSG:3035')"
   ]
  }
 ],
 "metadata": {
  "interpreter": {
   "hash": "31f2aee4e71d21fbe5cf8b01ff0e069b9275f58929596ceb00d14d90e3e16cd6"
  },
  "kernelspec": {
   "display_name": "Python 3.6.9 64-bit",
   "language": "python",
   "name": "python3"
  },
  "language_info": {
   "codemirror_mode": {
    "name": "ipython",
    "version": 3
   },
   "file_extension": ".py",
   "mimetype": "text/x-python",
   "name": "python",
   "nbconvert_exporter": "python",
   "pygments_lexer": "ipython3",
   "version": "3.6.9"
  }
 },
 "nbformat": 4,
 "nbformat_minor": 5
}
