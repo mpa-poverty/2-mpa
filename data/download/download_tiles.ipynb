{
  "nbformat": 4,
  "nbformat_minor": 0,
  "metadata": {
    "colab": {
      "provenance": []
    },
    "kernelspec": {
      "name": "python3",
      "display_name": "Python 3"
    },
    "language_info": {
      "name": "python"
    }
  },
  "cells": [
    {
      "cell_type": "code",
      "execution_count": null,
      "metadata": {
        "id": "o4JVjEYxMIp-",
        "colab": {
          "base_uri": "https://localhost:8080/"
        },
        "outputId": "6790d2fa-1336-4488-faaa-30c5e35edb9c"
      },
      "outputs": [
        {
          "output_type": "stream",
          "name": "stdout",
          "text": [
            "The autoreload extension is already loaded. To reload it, use:\n",
            "  %reload_ext autoreload\n"
          ]
        }
      ],
      "source": [
        "%load_ext autoreload\n",
        "%autoreload 2"
      ]
    },
    {
      "cell_type": "code",
      "source": [
        "import math\n",
        "from typing import Any, Dict, Optional, Tuple\n",
        "from tqdm import tqdm\n",
        "import ee\n",
        "import pandas as pd\n",
        "from google.colab import drive\n",
        "drive.mount('/content/drive') #chemin\n",
        "from google.colab import files\n"
      ],
      "metadata": {
        "colab": {
          "base_uri": "https://localhost:8080/"
        },
        "id": "qKR_Xu42MQG2",
        "outputId": "b75a2fb1-d317-4592-c15f-c8c44e4a1e68"
      },
      "execution_count": null,
      "outputs": [
        {
          "output_type": "stream",
          "name": "stdout",
          "text": [
            "Drive already mounted at /content/drive; to attempt to forcibly remount, call drive.mount(\"/content/drive\", force_remount=True).\n"
          ]
        }
      ]
    },
    {
      "cell_type": "code",
      "source": [
        "try:\n",
        "    ee.Initialize()\n",
        "except Exception as e:\n",
        "        ee.Authenticate()\n",
        "        ee.Initialize()"
      ],
      "metadata": {
        "colab": {
          "base_uri": "https://localhost:8080/"
        },
        "id": "AIqwqtAO67-m",
        "outputId": "bb88e8c7-75e8-43b3-99f5-bd22ff22a8a3"
      },
      "execution_count": null,
      "outputs": [
        {
          "output_type": "stream",
          "name": "stdout",
          "text": [
            "To authorize access needed by Earth Engine, open the following URL in a web browser and follow the instructions. If the web browser does not start automatically, please manually browse the URL below.\n",
            "\n",
            "    https://code.earthengine.google.com/client-auth?scopes=https%3A//www.googleapis.com/auth/earthengine%20https%3A//www.googleapis.com/auth/devstorage.full_control&request_id=C9cQniWFPU3fMFktyJcECB6p7Qt7B3Ljri6m-w87WCU&tc=Qy5tIvHhCTNlsaHcQ-gnRzmAjEoPcfXYm8OwZs5hQDs&cc=xMXNsHLlsxerf24gLHBhtd9s1RlvNuTD6hH4PlxnWUY\n",
            "\n",
            "The authorization workflow will generate a code, which you should paste in the box below.\n",
            "Enter verification code: 4/1AWtgzh6P6M6Dj-bmigu9LvuIGWl9DmG248BTR4o9-aLgj6CN6dZQhSMEq7g\n",
            "\n",
            "Successfully saved authorization token.\n"
          ]
        }
      ]
    },
    {
      "cell_type": "code",
      "source": [
        "print(csv_madagascar['year'].unique())"
      ],
      "metadata": {
        "colab": {
          "base_uri": "https://localhost:8080/"
        },
        "id": "T8rj7yvt79Rz",
        "outputId": "f864975a-2f88-4a75-a724-2c13c43622fc"
      },
      "execution_count": null,
      "outputs": [
        {
          "output_type": "stream",
          "name": "stdout",
          "text": [
            "[1997 2008 2011 2013 2016]\n"
          ]
        }
      ]
    },
    {
      "cell_type": "code",
      "source": [
        "# input data paths\n",
        "CSV_PATH = '/content/drive/My Drive/madagascar.csv'\n",
        "# band names\n",
        "# # image export parameters\n",
        "# PROJECTION = 'EPSG:3857'  # see https://epsg.io/3857\n",
        "# SCALE = 30                # export resolution: 30m/px\n",
        "# EXPORT_TILE_RADIUS = 127  # image dimension = (2*EXPORT_TILE_RADIUS) + 1 = 255px\n",
        "# CHUNK_SIZE = 1      # set to a small number (<= 50) if Google Earth Engine reports memory errors; \n",
        "# !pwd"
      ],
      "metadata": {
        "id": "y__jEXSuOBWT"
      },
      "execution_count": null,
      "outputs": []
    },
    {
      "cell_type": "code",
      "source": [
        "BANDS      =  [\"SR_B4\",\"SR_B3\",\"SR_B2\",\"SR_B1\",\"SR_B5\",\"SR_B7\"]\n",
        "CRS        = 'EPSG:4326' # PLANE EPSG TO GET SQUARE IMAGES (THIS WILL REQUIRE SOME CONVERSION - SEE BELOW)\n",
        "MARGIN     = 0.05"
      ],
      "metadata": {
        "id": "akxxQ0FeV8hw"
      },
      "execution_count": null,
      "outputs": []
    },
    {
      "cell_type": "code",
      "source": [
        "csv_madagascar = pd.read_csv(CSV_PATH)\n",
        "\n",
        "def create_bounding_box(lat, lon, margin=MARGIN):\n",
        "    minx = lat-margin\n",
        "    miny = lon-margin\n",
        "    maxx = lat+margin\n",
        "    maxy = lon+margin\n",
        "    return [minx, miny, maxx, maxy]\n",
        "\n",
        "csv_madagascar.drop(list(csv_madagascar.filter(regex = 'Unnamed')), axis = 1, inplace = True)\n",
        "csv_madagascar['bounding_box'] = csv_madagascar.apply(lambda x: create_bounding_box(lat=x['lat'], lon=x['lon']), axis=1)\n",
        "csv_madagascar.to_csv(CSV_PATH, sep=',')"
      ],
      "metadata": {
        "id": "laSsNHnFXkJS"
      },
      "execution_count": null,
      "outputs": []
    },
    {
      "cell_type": "code",
      "source": [
        "landsat_dates = [2001, 2015]"
      ],
      "metadata": {
        "id": "MkFpqIEM-R60"
      },
      "execution_count": null,
      "outputs": []
    },
    {
      "cell_type": "code",
      "source": [
        "country='madagascar'\n",
        "collection = 'LANDSAT/LT05/C02/T1_L2'# Fall back to LANDSAT 5\n",
        "for year in csv_madagascar['year'].unique():\n",
        "    year = int(year)\n",
        "    if year > landsat_dates[1]:\n",
        "        collection ='LANDSAT/LC08/C02/T1_L2' # LANDSAT-8 available\n",
        "    elif year > landsat_dates[0]:\n",
        "        collection = 'LANDSAT/LE07/C02/T1_L2'# LANDSAT-7 available\n",
        "    curr_year = csv_madagascar[ csv_madagascar['year']==year ]\n",
        "    for index, row in tqdm(curr_year.iterrows()):\n",
        "        tile_name = str(country)+'_'+str(year)+'_'+str(index)+'.tif'\n",
        "        bb = row['bounding_box']\n",
        "        xmin = float(bb[0])\n",
        "        ymin = float(bb[1])\n",
        "        xmax = float(bb[2])\n",
        "        ymax = float(bb[3])\n",
        "        region = ee.Geometry.BBox(ymin,xmin,ymax,xmax) # SWAP LAT/LON WITH EE \n",
        "        start_date = str(int(row['year'])-1)+'-01-01'\n",
        "        end_date   = str(int(row['year'])+1)+'-12-31'\n",
        "        data = ee.ImageCollection(collection)\\\n",
        "            .filterDate(start_date,end_date)\\\n",
        "            .filter(ee.Filter.lt('CLOUD_COVER',1))\\\n",
        "            .filterBounds(region)\n",
        "        data = data.select(BANDS).mean()\n",
        "        task = ee.batch.Export.image.toDrive(\n",
        "            image=data,\n",
        "            fileNamePrefix=str(index),\n",
        "            folder='sentinel',\n",
        "            region=region,\n",
        "            scale=30,\n",
        "            crs=CRS\n",
        "        )\n",
        "        task.start()"
      ],
      "metadata": {
        "id": "L9cCF5dO8A1t",
        "colab": {
          "base_uri": "https://localhost:8080/"
        },
        "outputId": "60d55564-2a70-4292-a2a0-90d023877da2"
      },
      "execution_count": null,
      "outputs": [
        {
          "output_type": "stream",
          "name": "stderr",
          "text": [
            "30it [00:12,  2.43it/s]\n",
            "584it [05:04,  1.92it/s]\n",
            "265it [01:17,  3.44it/s]\n",
            "273it [01:50,  2.47it/s]\n",
            "357it [02:09,  2.75it/s]\n"
          ]
        }
      ]
    },
    {
      "cell_type": "code",
      "source": [],
      "metadata": {
        "id": "R7kE8JMNpsLL"
      },
      "execution_count": null,
      "outputs": []
    }
  ]
}