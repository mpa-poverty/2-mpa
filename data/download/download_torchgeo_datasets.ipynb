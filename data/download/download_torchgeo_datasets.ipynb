{
 "cells": [
  {
   "cell_type": "markdown",
   "id": "43a7e073",
   "metadata": {},
   "source": [
    "## TORCHGEO DATASETS DOWNLOAD INSTRUCTIONS"
   ]
  },
  {
   "cell_type": "code",
   "execution_count": 4,
   "id": "d17e9dcb",
   "metadata": {},
   "outputs": [],
   "source": [
    "import os\n",
    "import pandas as pd"
   ]
  },
  {
   "cell_type": "markdown",
   "id": "8f44168f",
   "metadata": {},
   "source": [
    "### Landsat (with landsatxplore)"
   ]
  },
  {
   "cell_type": "markdown",
   "id": "de7c811f",
   "metadata": {},
   "source": [
    "1. First, let's (down)load landsatexplore module"
   ]
  },
  {
   "cell_type": "code",
   "execution_count": 3,
   "id": "7aa756fd",
   "metadata": {},
   "outputs": [],
   "source": [
    "try:\n",
    "    import landsatxplore\n",
    "except ImportError as e:\n",
    "    !pip install landsatxplore"
   ]
  },
  {
   "cell_type": "markdown",
   "id": "724b39b8",
   "metadata": {},
   "source": [
    "2. Then we search for the min/max coordinates from our csv data:"
   ]
  },
  {
   "cell_type": "code",
   "execution_count": 6,
   "id": "ecc571e0",
   "metadata": {},
   "outputs": [],
   "source": [
    "csv_name = 'wealth_index.csv' # set your csv filename\n",
    "csv_path = os.path.join('..', csv_name) \n",
    "csv_data = pd.read_csv(csv_path)"
   ]
  },
  {
   "cell_type": "code",
   "execution_count": 8,
   "id": "15742ea9",
   "metadata": {},
   "outputs": [
    {
     "data": {
      "text/html": [
       "<div>\n",
       "<style scoped>\n",
       "    .dataframe tbody tr th:only-of-type {\n",
       "        vertical-align: middle;\n",
       "    }\n",
       "\n",
       "    .dataframe tbody tr th {\n",
       "        vertical-align: top;\n",
       "    }\n",
       "\n",
       "    .dataframe thead th {\n",
       "        text-align: right;\n",
       "    }\n",
       "</style>\n",
       "<table border=\"1\" class=\"dataframe\">\n",
       "  <thead>\n",
       "    <tr style=\"text-align: right;\">\n",
       "      <th></th>\n",
       "      <th>lat</th>\n",
       "      <th>lon</th>\n",
       "      <th>year</th>\n",
       "      <th>month</th>\n",
       "      <th>day</th>\n",
       "      <th>asset_wealth</th>\n",
       "      <th>households</th>\n",
       "    </tr>\n",
       "  </thead>\n",
       "  <tbody>\n",
       "    <tr>\n",
       "      <th>0</th>\n",
       "      <td>-12.350257</td>\n",
       "      <td>13.534922</td>\n",
       "      <td>2011</td>\n",
       "      <td>NaN</td>\n",
       "      <td>NaN</td>\n",
       "      <td>2.312757</td>\n",
       "      <td>36</td>\n",
       "    </tr>\n",
       "    <tr>\n",
       "      <th>1</th>\n",
       "      <td>-12.360865</td>\n",
       "      <td>13.551494</td>\n",
       "      <td>2011</td>\n",
       "      <td>NaN</td>\n",
       "      <td>NaN</td>\n",
       "      <td>2.010293</td>\n",
       "      <td>32</td>\n",
       "    </tr>\n",
       "    <tr>\n",
       "      <th>2</th>\n",
       "      <td>-12.613421</td>\n",
       "      <td>13.413085</td>\n",
       "      <td>2011</td>\n",
       "      <td>NaN</td>\n",
       "      <td>NaN</td>\n",
       "      <td>0.877744</td>\n",
       "      <td>36</td>\n",
       "    </tr>\n",
       "    <tr>\n",
       "      <th>3</th>\n",
       "      <td>-12.581454</td>\n",
       "      <td>13.397711</td>\n",
       "      <td>2011</td>\n",
       "      <td>NaN</td>\n",
       "      <td>NaN</td>\n",
       "      <td>1.066994</td>\n",
       "      <td>35</td>\n",
       "    </tr>\n",
       "    <tr>\n",
       "      <th>4</th>\n",
       "      <td>-12.578135</td>\n",
       "      <td>13.418748</td>\n",
       "      <td>2011</td>\n",
       "      <td>NaN</td>\n",
       "      <td>NaN</td>\n",
       "      <td>1.750153</td>\n",
       "      <td>37</td>\n",
       "    </tr>\n",
       "  </tbody>\n",
       "</table>\n",
       "</div>"
      ],
      "text/plain": [
       "         lat        lon  year  month  day  asset_wealth  households\n",
       "0 -12.350257  13.534922  2011    NaN  NaN      2.312757          36\n",
       "1 -12.360865  13.551494  2011    NaN  NaN      2.010293          32\n",
       "2 -12.613421  13.413085  2011    NaN  NaN      0.877744          36\n",
       "3 -12.581454  13.397711  2011    NaN  NaN      1.066994          35\n",
       "4 -12.578135  13.418748  2011    NaN  NaN      1.750153          37"
      ]
     },
     "execution_count": 8,
     "metadata": {},
     "output_type": "execute_result"
    }
   ],
   "source": [
    "csv_data.head()"
   ]
  },
  {
   "cell_type": "code",
   "execution_count": 9,
   "id": "ae76ec16",
   "metadata": {},
   "outputs": [],
   "source": [
    "minx = csv_data['lat'].min()\n",
    "maxx = csv_data['lat'].max()\n",
    "miny = csv_data['lon'].min()\n",
    "maxy = csv_data['lon'].max()"
   ]
  },
  {
   "cell_type": "code",
   "execution_count": null,
   "id": "3ef25201",
   "metadata": {},
   "outputs": [],
   "source": []
  }
 ],
 "metadata": {
  "kernelspec": {
   "display_name": "Python 3 (ipykernel)",
   "language": "python",
   "name": "python3"
  },
  "language_info": {
   "codemirror_mode": {
    "name": "ipython",
    "version": 3
   },
   "file_extension": ".py",
   "mimetype": "text/x-python",
   "name": "python",
   "nbconvert_exporter": "python",
   "pygments_lexer": "ipython3",
   "version": "3.10.9"
  }
 },
 "nbformat": 4,
 "nbformat_minor": 5
}
