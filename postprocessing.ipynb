{
 "cells": [
  {
   "attachments": {},
   "cell_type": "markdown",
   "metadata": {},
   "source": [
    "## Post processing"
   ]
  },
  {
   "attachments": {},
   "cell_type": "markdown",
   "metadata": {},
   "source": [
    "The purpose of this notebook is to process the checkpoints after a training has been made. It allows you to select the best chekpoint for each epoch."
   ]
  },
  {
   "attachments": {},
   "cell_type": "markdown",
   "metadata": {},
   "source": [
    "#### Set up"
   ]
  },
  {
   "cell_type": "code",
   "execution_count": 1,
   "metadata": {},
   "outputs": [],
   "source": [
    "import numpy as np\n",
    "import pandas as pd\n",
    "from glob import glob\n",
    "import os\n",
    "import math\n",
    "from tqdm import tqdm\n",
    "import pickle\n",
    "import gzip\n",
    "import shutil"
   ]
  },
  {
   "cell_type": "code",
   "execution_count": 4,
   "metadata": {},
   "outputs": [],
   "source": [
    "# Test name \n",
    "test_name = 'msnlt_conf_t13'"
   ]
  },
  {
   "attachments": {},
   "cell_type": "markdown",
   "metadata": {},
   "source": [
    "#### Determine best epoch for each fold"
   ]
  },
  {
   "cell_type": "code",
   "execution_count": 6,
   "metadata": {},
   "outputs": [],
   "source": [
    "# Rename result file\n",
    "\n",
    "old_filename = './models/results/conf_t/' + test_name + '_0.pkl'\n",
    "new_filename = './models/results/conf_t/' + test_name + '.pkl'\n",
    "\n",
    "# Rename the file\n",
    "os.rename(old_filename, new_filename)"
   ]
  },
  {
   "cell_type": "code",
   "execution_count": 7,
   "metadata": {},
   "outputs": [
    {
     "name": "stdout",
     "output_type": "stream",
     "text": [
      "msnlt_conf_t13\n",
      "Best epochs based on test_r2:\n",
      "Fold A: Epoch 1 (R2_val = 0.2521)\n",
      "Fold B: Epoch 1 (R2_val = -2.1369)\n",
      "Fold C: Epoch 1 (R2_val = 0.2042)\n",
      "Fold D: Epoch 1 (R2_val = 0.3418)\n",
      "Fold E: Epoch 1 (R2_val = 0.3176)\n"
     ]
    }
   ],
   "source": [
    "# Make a dictionary with best epochs and print them\n",
    "\n",
    "# Load the results from the pickle file\n",
    "with open('./models/results/conf_t/' + test_name + '.pkl', 'rb') as f:\n",
    "    dic = pickle.load(f)\n",
    "\n",
    "best_epochs = {}  # Dictionary to store the best epochs\n",
    "\n",
    "# Iterate through the folds\n",
    "for fold, fold_results in dic.items():\n",
    "    # Find the epoch with the maximum test_r2\n",
    "    best_test_r2_epoch = np.argmax(fold_results['test_r2']) + 1  # Adjust for 0-based index\n",
    "    best_test_r2_value = fold_results['test_r2'][best_test_r2_epoch - 1]  # R2 value at the best epoch\n",
    "    \n",
    "    best_epochs[fold] = {\n",
    "        'best_test_r2_epoch': best_test_r2_epoch,\n",
    "        'best_test_r2_value': best_test_r2_value\n",
    "    }\n",
    "\n",
    "# Dictionary containing the best epochs and R2 values for each fold\n",
    "best_epochs_dict = {} \n",
    "\n",
    "# Define the model names ('A', 'B', 'C', 'D', 'E')\n",
    "fold_names = ['A', 'B', 'C', 'D', 'E']\n",
    "\n",
    "# Iterate through the model names\n",
    "for fold_name in fold_names:\n",
    "    # Get the best epochs and R2 values for the current model\n",
    "    fold_best_epochs = {\n",
    "        'best_test_r2_epoch': best_epochs[fold_name]['best_test_r2_epoch'],\n",
    "        'best_test_r2_value': best_epochs[fold_name]['best_test_r2_value']\n",
    "    }\n",
    "    \n",
    "    # Add the best epochs to the dictionary\n",
    "    best_epochs_dict[fold_name] = fold_best_epochs\n",
    "\n",
    "# Print the best epochs based on test_r2 in the specified format\n",
    "print(test_name)\n",
    "print(\"Best epochs based on test_r2:\")\n",
    "for fold_name, epochs in best_epochs_dict.items():\n",
    "    print(f\"Fold {fold_name}: Epoch {epochs['best_test_r2_epoch']} (R2_val = {epochs['best_test_r2_value']:.4f})\")\n"
   ]
  },
  {
   "cell_type": "code",
   "execution_count": 8,
   "metadata": {},
   "outputs": [
    {
     "name": "stdout",
     "output_type": "stream",
     "text": [
      "Best checkpoints copied to ./models/checkpoints/conf_t/msnlt_conf_t13_best\n"
     ]
    }
   ],
   "source": [
    "# Save the best epoch checkpoint files in a folder\n",
    "\n",
    "# Path to the folder containing all checkpoints\n",
    "all_checkpoints_folder = './models/checkpoints/conf_t/all'\n",
    "\n",
    "# Path to the folder where the best checkpoints will be copied \n",
    "best_checkpoints_folder = './models/checkpoints/conf_t/' + test_name + '_best'\n",
    "\n",
    "# Iterate through the folds and models to copy the best checkpoints\n",
    "for fold, best_epochs_dict in best_epochs.items():\n",
    "    # Extract the best epoch for test_r2\n",
    "    best_test_r2_epoch = best_epochs_dict['best_test_r2_epoch']\n",
    "\n",
    "    for model_name in fold_names:\n",
    "        # Construct the checkpoint filename based on the provided structure\n",
    "        checkpoint_filename = f\"{test_name}_{fold}_{best_test_r2_epoch}.pth\"  # Use two underscores\n",
    "\n",
    "        # Source path of the best checkpoint file\n",
    "        source_path = os.path.join(all_checkpoints_folder, checkpoint_filename)\n",
    "\n",
    "        # Destination path where the best checkpoint will be copied\n",
    "        destination_path = os.path.join(best_checkpoints_folder, checkpoint_filename)\n",
    "\n",
    "        # Create the destination directory if it doesn't exist\n",
    "        os.makedirs(os.path.dirname(destination_path), exist_ok=True)\n",
    "\n",
    "        # Copy the best checkpoint to the 'best' folder\n",
    "        shutil.copy(source_path, destination_path)\n",
    "\n",
    "# Inform the user that the operation is completed\n",
    "print('Best checkpoints copied to '+ best_checkpoints_folder)\n"
   ]
  },
  {
   "cell_type": "code",
   "execution_count": 10,
   "metadata": {},
   "outputs": [
    {
     "name": "stdout",
     "output_type": "stream",
     "text": [
      "msnlt__A_1.pth\n",
      "Renamed to: msnlt_A.pth\n",
      "msnlt__B_1.pth\n",
      "Renamed to: msnlt_B.pth\n",
      "msnlt__C_1.pth\n",
      "Renamed to: msnlt_C.pth\n",
      "msnlt__D_1.pth\n",
      "Renamed to: msnlt_D.pth\n",
      "msnlt__E_1.pth\n",
      "Renamed to: msnlt_E.pth\n"
     ]
    }
   ],
   "source": [
    "# Rename checkpoints\n",
    "\n",
    "# Path to the folder containing the copied checkpoints\n",
    "copied_checkpoints_folder = best_checkpoints_folder\n",
    "\n",
    "# Iterate through the files in the \"best\" folder and rename them\n",
    "for filename in os.listdir(copied_checkpoints_folder):\n",
    "    print(filename)\n",
    "\n",
    "    # Extract the relevant parts for the new name\n",
    "    parts = filename.split('_')\n",
    "    model = parts[0]\n",
    "    fold = parts[-2]\n",
    "\n",
    "    # Construct the new filename based on the extracted parts\n",
    "    new_filename = f\"{model}_{fold}.pth\"\n",
    "\n",
    "    # Source path of the checkpoint file\n",
    "    source_path = os.path.join(copied_checkpoints_folder, filename)\n",
    "\n",
    "    # Destination path with the new filename\n",
    "    destination_path = os.path.join(copied_checkpoints_folder, new_filename)\n",
    "\n",
    "    # Rename the file\n",
    "    os.rename(source_path, destination_path)\n",
    "\n",
    "    # Print the new filename\n",
    "    print(\"Renamed to:\", new_filename)\n",
    "\n",
    "        "
   ]
  },
  {
   "attachments": {},
   "cell_type": "markdown",
   "metadata": {},
   "source": [
    "#### Other"
   ]
  },
  {
   "cell_type": "code",
   "execution_count": null,
   "metadata": {},
   "outputs": [],
   "source": [
    "# function to print the structure of a dic\n",
    "\n",
    "def print_dict_str(d, indent=0):\n",
    "    for key, value in d.items():\n",
    "        if isinstance(value, dict):\n",
    "            print(\" \" * indent + f\"{key}: (dict)\")\n",
    "            print_dict_str(value, indent + 4)\n",
    "        else:\n",
    "            print(\" \" * indent + f\"{key}: {type(value).__name__}\")\n"
   ]
  },
  {
   "cell_type": "code",
   "execution_count": null,
   "metadata": {},
   "outputs": [],
   "source": [
    "# print structure of a dic\n",
    "\n",
    "with open('../models/results/conf_t/msnlt_conf_t2.pkl', 'rb') as f:\n",
    "    dic = pickle.load(f)\n",
    "\n",
    "print_dict_str(dic)"
   ]
  }
 ],
 "metadata": {
  "kernelspec": {
   "display_name": "mpa",
   "language": "python",
   "name": "mpa"
  },
  "language_info": {
   "codemirror_mode": {
    "name": "ipython",
    "version": 3
   },
   "file_extension": ".py",
   "mimetype": "text/x-python",
   "name": "python",
   "nbconvert_exporter": "python",
   "pygments_lexer": "ipython3",
   "version": "3.10.14"
  }
 },
 "nbformat": 4,
 "nbformat_minor": 4
}
