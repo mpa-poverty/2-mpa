{
 "cells": [
  {
   "attachments": {},
   "cell_type": "markdown",
   "metadata": {},
   "source": [
    "## Post processing"
   ]
  },
  {
   "attachments": {},
   "cell_type": "markdown",
   "metadata": {},
   "source": [
    "The purpose of this notebook is to process the checkpoints after a training has been made. It allows you to select the best chekpoint for each epoch."
   ]
  },
  {
   "attachments": {},
   "cell_type": "markdown",
   "metadata": {},
   "source": [
    "#### Set up"
   ]
  },
  {
   "cell_type": "code",
   "execution_count": 1,
   "metadata": {},
   "outputs": [],
   "source": [
    "import numpy as np\n",
    "import pandas as pd\n",
    "from glob import glob\n",
    "import os\n",
    "import math\n",
    "from tqdm import tqdm\n",
    "import pickle\n",
    "import gzip\n",
    "import shutil"
   ]
  },
  {
   "cell_type": "code",
   "execution_count": 2,
   "metadata": {},
   "outputs": [],
   "source": [
    "# Test name \n",
    "test_name = 'msnl2'"
   ]
  },
  {
   "attachments": {},
   "cell_type": "markdown",
   "metadata": {},
   "source": [
    "#### Determine best epoch for each fold"
   ]
  },
  {
   "cell_type": "code",
   "execution_count": 4,
   "metadata": {},
   "outputs": [],
   "source": [
    "# Rename result file\n",
    "\n",
    "old_filename = './models/results/conf_t/' + test_name + '_0.pkl'\n",
    "new_filename = './models/results/conf_t/' + test_name + '.pkl'\n",
    "\n",
    "# Rename the file\n",
    "os.rename(old_filename, new_filename)"
   ]
  },
  {
   "cell_type": "code",
   "execution_count": 5,
   "metadata": {},
   "outputs": [
    {
     "name": "stdout",
     "output_type": "stream",
     "text": [
      "msnl2\n",
      "Best epochs based on test_r2:\n",
      "Fold A: Epoch 1 (R2_val = 0.2074)\n",
      "Fold B: Epoch 2 (R2_val = -0.4888)\n",
      "Fold C: Epoch 2 (R2_val = 0.2132)\n",
      "Fold D: Epoch 2 (R2_val = 0.3997)\n",
      "Fold E: Epoch 1 (R2_val = 0.4419)\n"
     ]
    }
   ],
   "source": [
    "# Make a dictionary with best epochs and print them\n",
    "\n",
    "# Load the results from the pickle file\n",
    "with open('./models/results/conf_t/' + test_name + '.pkl', 'rb') as f:\n",
    "    dic = pickle.load(f)\n",
    "\n",
    "best_epochs = {}  # Dictionary to store the best epochs\n",
    "\n",
    "# Iterate through the folds\n",
    "for fold, fold_results in dic.items():\n",
    "    # Find the epoch with the maximum test_r2\n",
    "    best_test_r2_epoch = np.argmax(fold_results['test_r2']) + 1  # Adjust for 0-based index\n",
    "    best_test_r2_value = fold_results['test_r2'][best_test_r2_epoch - 1]  # R2 value at the best epoch\n",
    "    \n",
    "    best_epochs[fold] = {\n",
    "        'best_test_r2_epoch': best_test_r2_epoch,\n",
    "        'best_test_r2_value': best_test_r2_value\n",
    "    }\n",
    "\n",
    "# Dictionary containing the best epochs and R2 values for each fold\n",
    "best_epochs_dict = {} \n",
    "\n",
    "# Define the model names ('A', 'B', 'C', 'D', 'E')\n",
    "fold_names = ['A', 'B', 'C', 'D', 'E']\n",
    "\n",
    "# Iterate through the model names\n",
    "for fold_name in fold_names:\n",
    "    # Get the best epochs and R2 values for the current model\n",
    "    fold_best_epochs = {\n",
    "        'best_test_r2_epoch': best_epochs[fold_name]['best_test_r2_epoch'],\n",
    "        'best_test_r2_value': best_epochs[fold_name]['best_test_r2_value']\n",
    "    }\n",
    "    \n",
    "    # Add the best epochs to the dictionary\n",
    "    best_epochs_dict[fold_name] = fold_best_epochs\n",
    "\n",
    "# Print the best epochs based on test_r2 in the specified format\n",
    "print(test_name)\n",
    "print(\"Best epochs based on test_r2:\")\n",
    "for fold_name, epochs in best_epochs_dict.items():\n",
    "    print(f\"Fold {fold_name}: Epoch {epochs['best_test_r2_epoch']} (R2_val = {epochs['best_test_r2_value']:.4f})\")\n"
   ]
  },
  {
   "cell_type": "code",
   "execution_count": 6,
   "metadata": {},
   "outputs": [
    {
     "ename": "FileNotFoundError",
     "evalue": "[Errno 2] No such file or directory: './models/checkpoints/conf_t/all\\\\msnl2_A_1.pth'",
     "output_type": "error",
     "traceback": [
      "\u001b[1;31m---------------------------------------------------------------------------\u001b[0m",
      "\u001b[1;31mFileNotFoundError\u001b[0m                         Traceback (most recent call last)",
      "Cell \u001b[1;32mIn[6], line 28\u001b[0m\n\u001b[0;32m     25\u001b[0m         os\u001b[38;5;241m.\u001b[39mmakedirs(os\u001b[38;5;241m.\u001b[39mpath\u001b[38;5;241m.\u001b[39mdirname(destination_path), exist_ok\u001b[38;5;241m=\u001b[39m\u001b[38;5;28;01mTrue\u001b[39;00m)\n\u001b[0;32m     27\u001b[0m         \u001b[38;5;66;03m# Copy the best checkpoint to the 'best' folder\u001b[39;00m\n\u001b[1;32m---> 28\u001b[0m         \u001b[43mshutil\u001b[49m\u001b[38;5;241;43m.\u001b[39;49m\u001b[43mcopy\u001b[49m\u001b[43m(\u001b[49m\u001b[43msource_path\u001b[49m\u001b[43m,\u001b[49m\u001b[43m \u001b[49m\u001b[43mdestination_path\u001b[49m\u001b[43m)\u001b[49m\n\u001b[0;32m     30\u001b[0m \u001b[38;5;66;03m# Inform the user that the operation is completed\u001b[39;00m\n\u001b[0;32m     31\u001b[0m \u001b[38;5;28mprint\u001b[39m(\u001b[38;5;124m'\u001b[39m\u001b[38;5;124mBest checkpoints copied to \u001b[39m\u001b[38;5;124m'\u001b[39m\u001b[38;5;241m+\u001b[39m best_checkpoints_folder)\n",
      "File \u001b[1;32m~\\anaconda3\\envs\\mpa\\lib\\shutil.py:417\u001b[0m, in \u001b[0;36mcopy\u001b[1;34m(src, dst, follow_symlinks)\u001b[0m\n\u001b[0;32m    415\u001b[0m \u001b[38;5;28;01mif\u001b[39;00m os\u001b[38;5;241m.\u001b[39mpath\u001b[38;5;241m.\u001b[39misdir(dst):\n\u001b[0;32m    416\u001b[0m     dst \u001b[38;5;241m=\u001b[39m os\u001b[38;5;241m.\u001b[39mpath\u001b[38;5;241m.\u001b[39mjoin(dst, os\u001b[38;5;241m.\u001b[39mpath\u001b[38;5;241m.\u001b[39mbasename(src))\n\u001b[1;32m--> 417\u001b[0m \u001b[43mcopyfile\u001b[49m\u001b[43m(\u001b[49m\u001b[43msrc\u001b[49m\u001b[43m,\u001b[49m\u001b[43m \u001b[49m\u001b[43mdst\u001b[49m\u001b[43m,\u001b[49m\u001b[43m \u001b[49m\u001b[43mfollow_symlinks\u001b[49m\u001b[38;5;241;43m=\u001b[39;49m\u001b[43mfollow_symlinks\u001b[49m\u001b[43m)\u001b[49m\n\u001b[0;32m    418\u001b[0m copymode(src, dst, follow_symlinks\u001b[38;5;241m=\u001b[39mfollow_symlinks)\n\u001b[0;32m    419\u001b[0m \u001b[38;5;28;01mreturn\u001b[39;00m dst\n",
      "File \u001b[1;32m~\\anaconda3\\envs\\mpa\\lib\\shutil.py:254\u001b[0m, in \u001b[0;36mcopyfile\u001b[1;34m(src, dst, follow_symlinks)\u001b[0m\n\u001b[0;32m    252\u001b[0m     os\u001b[38;5;241m.\u001b[39msymlink(os\u001b[38;5;241m.\u001b[39mreadlink(src), dst)\n\u001b[0;32m    253\u001b[0m \u001b[38;5;28;01melse\u001b[39;00m:\n\u001b[1;32m--> 254\u001b[0m     \u001b[38;5;28;01mwith\u001b[39;00m \u001b[38;5;28;43mopen\u001b[39;49m\u001b[43m(\u001b[49m\u001b[43msrc\u001b[49m\u001b[43m,\u001b[49m\u001b[43m \u001b[49m\u001b[38;5;124;43m'\u001b[39;49m\u001b[38;5;124;43mrb\u001b[39;49m\u001b[38;5;124;43m'\u001b[39;49m\u001b[43m)\u001b[49m \u001b[38;5;28;01mas\u001b[39;00m fsrc:\n\u001b[0;32m    255\u001b[0m         \u001b[38;5;28;01mtry\u001b[39;00m:\n\u001b[0;32m    256\u001b[0m             \u001b[38;5;28;01mwith\u001b[39;00m \u001b[38;5;28mopen\u001b[39m(dst, \u001b[38;5;124m'\u001b[39m\u001b[38;5;124mwb\u001b[39m\u001b[38;5;124m'\u001b[39m) \u001b[38;5;28;01mas\u001b[39;00m fdst:\n\u001b[0;32m    257\u001b[0m                 \u001b[38;5;66;03m# macOS\u001b[39;00m\n",
      "\u001b[1;31mFileNotFoundError\u001b[0m: [Errno 2] No such file or directory: './models/checkpoints/conf_t/all\\\\msnl2_A_1.pth'"
     ]
    }
   ],
   "source": [
    "# Save the best epoch checkpoint files in a folder\n",
    "\n",
    "# Path to the folder containing all checkpoints\n",
    "all_checkpoints_folder = './models/checkpoints/conf_t/all'\n",
    "\n",
    "# Path to the folder where the best checkpoints will be copied \n",
    "best_checkpoints_folder = './models/checkpoints/conf_t/' + test_name + '_best'\n",
    "\n",
    "# Iterate through the folds and models to copy the best checkpoints\n",
    "for fold, best_epochs_dict in best_epochs.items():\n",
    "    # Extract the best epoch for test_r2\n",
    "    best_test_r2_epoch = best_epochs_dict['best_test_r2_epoch']\n",
    "\n",
    "    for model_name in fold_names:\n",
    "        # Construct the checkpoint filename based on the provided structure\n",
    "        checkpoint_filename = f\"{test_name}_{fold}_{best_test_r2_epoch}.pth\"  # Use two underscores\n",
    "\n",
    "        # Source path of the best checkpoint file\n",
    "        source_path = os.path.join(all_checkpoints_folder, checkpoint_filename)\n",
    "\n",
    "        # Destination path where the best checkpoint will be copied\n",
    "        destination_path = os.path.join(best_checkpoints_folder, checkpoint_filename)\n",
    "\n",
    "        # Create the destination directory if it doesn't exist\n",
    "        os.makedirs(os.path.dirname(destination_path), exist_ok=True)\n",
    "\n",
    "        # Copy the best checkpoint to the 'best' folder\n",
    "        shutil.copy(source_path, destination_path)\n",
    "\n",
    "# Inform the user that the operation is completed\n",
    "print('Best checkpoints copied to '+ best_checkpoints_folder)\n"
   ]
  },
  {
   "cell_type": "code",
   "execution_count": 21,
   "metadata": {},
   "outputs": [
    {
     "name": "stdout",
     "output_type": "stream",
     "text": [
      "nl2_A_1.pth\n",
      "Renamed to: nl2_A.pth\n",
      "nl2_B_1.pth\n",
      "Renamed to: nl2_B.pth\n",
      "nl2_C_1.pth\n",
      "Renamed to: nl2_C.pth\n",
      "nl2_D_1.pth\n",
      "Renamed to: nl2_D.pth\n",
      "nl2_E_1.pth\n",
      "Renamed to: nl2_E.pth\n"
     ]
    }
   ],
   "source": [
    "# Rename checkpoints\n",
    "\n",
    "# Path to the folder containing the copied checkpoints\n",
    "copied_checkpoints_folder = best_checkpoints_folder\n",
    "\n",
    "# Iterate through the files in the \"best\" folder and rename them\n",
    "for filename in os.listdir(copied_checkpoints_folder):\n",
    "    print(filename)\n",
    "\n",
    "    # Extract the relevant parts for the new name\n",
    "    parts = filename.split('_')\n",
    "    model = parts[0]\n",
    "    fold = parts[-2]\n",
    "\n",
    "    # Construct the new filename based on the extracted parts\n",
    "    new_filename = f\"{model}_{fold}.pth\"\n",
    "\n",
    "    # Source path of the checkpoint file\n",
    "    source_path = os.path.join(copied_checkpoints_folder, filename)\n",
    "\n",
    "    # Destination path with the new filename\n",
    "    destination_path = os.path.join(copied_checkpoints_folder, new_filename)\n",
    "\n",
    "    # Rename the file\n",
    "    os.rename(source_path, destination_path)\n",
    "\n",
    "    # Print the new filename\n",
    "    print(\"Renamed to:\", new_filename)\n",
    "\n",
    "        "
   ]
  },
  {
   "attachments": {},
   "cell_type": "markdown",
   "metadata": {},
   "source": [
    "#### Other"
   ]
  },
  {
   "cell_type": "code",
   "execution_count": null,
   "metadata": {},
   "outputs": [],
   "source": [
    "# function to print the structure of a dic\n",
    "\n",
    "def print_dict_str(d, indent=0):\n",
    "    for key, value in d.items():\n",
    "        if isinstance(value, dict):\n",
    "            print(\" \" * indent + f\"{key}: (dict)\")\n",
    "            print_dict_str(value, indent + 4)\n",
    "        else:\n",
    "            print(\" \" * indent + f\"{key}: {type(value).__name__}\")\n"
   ]
  },
  {
   "cell_type": "code",
   "execution_count": null,
   "metadata": {},
   "outputs": [],
   "source": [
    "# print structure of a dic\n",
    "\n",
    "with open('../models/results/conf_t/msnlt_conf_t2.pkl', 'rb') as f:\n",
    "    dic = pickle.load(f)\n",
    "\n",
    "print_dict_str(dic)"
   ]
  }
 ],
 "metadata": {
  "kernelspec": {
   "display_name": "mpa",
   "language": "python",
   "name": "mpa"
  },
  "language_info": {
   "codemirror_mode": {
    "name": "ipython",
    "version": 3
   },
   "file_extension": ".py",
   "mimetype": "text/x-python",
   "name": "python",
   "nbconvert_exporter": "python",
   "pygments_lexer": "ipython3",
   "version": "3.10.14"
  }
 },
 "nbformat": 4,
 "nbformat_minor": 4
}
