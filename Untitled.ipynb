{
 "cells": [
  {
   "cell_type": "markdown",
   "id": "ee11b763",
   "metadata": {},
   "source": [
    "## Training loop 0.0"
   ]
  },
  {
   "cell_type": "code",
   "execution_count": 14,
   "id": "117e1d7d",
   "metadata": {},
   "outputs": [],
   "source": [
    "from data_handlers.datasets.csv_dataset import CustomDatasetFromCSV "
   ]
  },
  {
   "cell_type": "code",
   "execution_count": null,
   "id": "9a81b67d",
   "metadata": {},
   "outputs": [],
   "source": [
    "dataset = CustomDatasetFromCSV( csv_file=\"data/datasets/\")"
   ]
  }
 ],
 "metadata": {
  "kernelspec": {
   "display_name": "Python 3 (ipykernel)",
   "language": "python",
   "name": "python3"
  },
  "language_info": {
   "codemirror_mode": {
    "name": "ipython",
    "version": 3
   },
   "file_extension": ".py",
   "mimetype": "text/x-python",
   "name": "python",
   "nbconvert_exporter": "python",
   "pygments_lexer": "ipython3",
   "version": "3.10.10"
  }
 },
 "nbformat": 4,
 "nbformat_minor": 5
}
