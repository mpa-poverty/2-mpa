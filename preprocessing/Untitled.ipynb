{
 "cells": [
  {
   "cell_type": "code",
   "execution_count": 4,
   "id": "4b1ff8fa",
   "metadata": {},
   "outputs": [],
   "source": [
    "import os \n",
    "import glob\n",
    "\n",
    "import pandas as pd \n",
    "import numpy as np\n",
    "import torch\n",
    "from tfrecord.torch.dataset import MultiTFRecordDataset"
   ]
  },
  {
   "cell_type": "code",
   "execution_count": 2,
   "id": "ac4fc476",
   "metadata": {},
   "outputs": [],
   "source": [
    "CSV              = os.path.join( \"..\", \"data\", \"wealth_index.csv\" )\n",
    "RECORDS_DIR      = os.path.join( \"..\", \"data\", \"landsat_7\", \"\" )\n",
    "BANDS_DESCRIPTOR =  {\n",
    "    \"image\": \"byte\", \n",
    "    \"label\": \"int\",\n",
    "} "
   ]
  },
  {
   "cell_type": "code",
   "execution_count": 7,
   "id": "58281836",
   "metadata": {},
   "outputs": [
    {
     "data": {
      "text/plain": [
       "[]"
      ]
     },
     "execution_count": 7,
     "metadata": {},
     "output_type": "execute_result"
    }
   ],
   "source": [
    "# glob tfrecords\n",
    "records = glob.glob(RECORDS_DIR)\n",
    "records[:5]"
   ]
  },
  {
   "cell_type": "code",
   "execution_count": null,
   "id": "c5a1dbda",
   "metadata": {},
   "outputs": [],
   "source": [
    "csv = pd.read_csv(CSV)"
   ]
  },
  {
   "cell_type": "code",
   "execution_count": null,
   "id": "45bb2fa5",
   "metadata": {},
   "outputs": [],
   "source": [
    "for year in csv.year.unique():\n",
    "    sub_year = csv[ csv.year == year ]\n",
    "    for country in sub_year.country.unique():\n",
    "        sub_country = sub_year[ sub_year.country == country ].copy()\n",
    "        cpt_set = set()\n",
    "        while len(cpt_set) < len(sub_country):\n",
    "            pattern = RECORDS_DIR+\"*\"+str(country)+\"*\"+str(year)+\"/*.tfrecords\"\n",
    "            files = glob.glob(pattern)# ?\n",
    "            for file in files:\n",
    "                \n",
    "                "
   ]
  },
  {
   "cell_type": "code",
   "execution_count": null,
   "id": "6529207b",
   "metadata": {},
   "outputs": [],
   "source": [
    "tfrecord_pattern = RECORDS\"/tmp/{}.tfrecord\"\n",
    "index_pattern = \"/tmp/{}.index\"\n",
    "splits = {\n",
    "    \"dataset1\": 0.8,\n",
    "    \"dataset2\": 0.2,\n",
    "}\n",
    "description = {\"image\": \"byte\", \"label\": \"int\"}\n",
    "dataset = MultiTFRecordDataset(tfrecord_pattern, index_pattern, splits, description)\n",
    "loader = torch.utils.data.DataLoader(dataset, batch_size=32)\n",
    "\n",
    "data = next(iter(loader))\n",
    "print(data)"
   ]
  },
  {
   "cell_type": "code",
   "execution_count": null,
   "id": "4f9c2817",
   "metadata": {},
   "outputs": [],
   "source": []
  }
 ],
 "metadata": {
  "kernelspec": {
   "display_name": "Python 3 (ipykernel)",
   "language": "python",
   "name": "python3"
  },
  "language_info": {
   "codemirror_mode": {
    "name": "ipython",
    "version": 3
   },
   "file_extension": ".py",
   "mimetype": "text/x-python",
   "name": "python",
   "nbconvert_exporter": "python",
   "pygments_lexer": "ipython3",
   "version": "3.10.10"
  }
 },
 "nbformat": 4,
 "nbformat_minor": 5
}
