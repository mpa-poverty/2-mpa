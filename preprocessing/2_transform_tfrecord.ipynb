{
 "cells": [
  {
   "cell_type": "code",
   "execution_count": 1,
   "id": "4b1ff8fa",
   "metadata": {},
   "outputs": [
    {
     "name": "stderr",
     "output_type": "stream",
     "text": [
      "/home/matthieu/anaconda3/envs/mpa_env/lib/python3.10/site-packages/tqdm/auto.py:21: TqdmWarning: IProgress not found. Please update jupyter and ipywidgets. See https://ipywidgets.readthedocs.io/en/stable/user_install.html\n",
      "  from .autonotebook import tqdm as notebook_tqdm\n"
     ]
    }
   ],
   "source": [
    "import os \n",
    "import glob\n",
    "import gzip\n",
    "import shutil\n",
    "import torch\n",
    "import rasterio\n",
    "import pandas as pd \n",
    "import numpy as np\n",
    "from tfrecord.torch.dataset import TFRecordDataset"
   ]
  },
  {
   "cell_type": "code",
   "execution_count": 2,
   "id": "ac4fc476",
   "metadata": {},
   "outputs": [],
   "source": [
    "CSV              = os.path.join( \"..\", \"data\", \"dataset_viirs_only.csv\" )\n",
    "RECORDS_DIR      = os.path.join( \"..\", \"data\", \"landsat_7_less\",\"\" )\n",
    "TIF_DIR          = os.path.join( \"..\", \"data\", \"landsat_7_less\",\"\" )\n",
    "BANDS            = ['BLUE','GREEN','RED','NIR','SWIR1','SWIR2','TEMP1','NIGHTLIGHTS']\n",
    "DESCRIPTOR       = {\n",
    "                'cluster':\"float\",\n",
    "                'lat':\"float\", \n",
    "                \"lon\":\"float\",\n",
    "                'wealthpooled':\"float\",\n",
    "                'BLUE':\"float\",\n",
    "                'GREEN':\"float\",\n",
    "                'RED':\"float\",\n",
    "                'NIR':\"float\",\n",
    "                'SWIR1':\"float\",\n",
    "                'SWIR2':\"float\",\n",
    "                'TEMP1':\"float\",\n",
    "                'NIGHTLIGHTS':\"float\"\n",
    "              }   "
   ]
  },
  {
   "cell_type": "code",
   "execution_count": 3,
   "id": "0f28f162",
   "metadata": {},
   "outputs": [],
   "source": [
    "csv=pd.read_csv(CSV)"
   ]
  },
  {
   "cell_type": "code",
   "execution_count": 4,
   "id": "45bb2fa5",
   "metadata": {},
   "outputs": [
    {
     "data": {
      "text/plain": [
       "['../data/landsat_7_less/angola_2015/604.tfrecord.gz',\n",
       " '../data/landsat_7_less/angola_2015/605.tfrecord.gz',\n",
       " '../data/landsat_7_less/angola_2015/606.tfrecord.gz',\n",
       " '../data/landsat_7_less/angola_2015/607.tfrecord.gz',\n",
       " '../data/landsat_7_less/angola_2015/608.tfrecord.gz']"
      ]
     },
     "execution_count": 4,
     "metadata": {},
     "output_type": "execute_result"
    }
   ],
   "source": [
    "records = dict()\n",
    "for year in csv.year.unique():\n",
    "    records[year]=dict()\n",
    "    sub_year = csv[ csv.year == year ]\n",
    "    for country in sub_year.country.unique():\n",
    "        sub_country = sub_year[ sub_year.country == country ].copy()\n",
    "        pattern = RECORDS_DIR+\"*\"+str(country)+\"_\"+str(year)+\"/*.tfrecord*\"\n",
    "        records[year][country] = glob.glob(pattern)\n",
    "records[2015]['angola'][:5]"
   ]
  },
  {
   "cell_type": "code",
   "execution_count": 5,
   "id": "6529207b",
   "metadata": {},
   "outputs": [],
   "source": [
    "def decompress_tfrecord(tfrecord_archive):\n",
    "    with gzip.open(tfrecord_archive, 'rb') as f_in:\n",
    "        # WITHOUT .GZ\n",
    "        with open(tfrecord_archive[:-3], 'wb') as f_out:\n",
    "            shutil.copyfileobj(f_in, f_out)\n",
    "    return tfrecord_archive[:-3]\n",
    "\n",
    "def tensor_to_string(data, variable):\n",
    "    filename = (data[variable].numpy())[0][0]\n",
    "    return str(filename).replace(\".\",\"\")\n",
    "\n",
    "def tfrecord_to_tif(data, filename):\n",
    "    arrays = []\n",
    "    for i in range(len(BANDS)):\n",
    "        new_arr = data[BANDS[i]][0].numpy().reshape((255,255))\n",
    "        arrays.append(new_arr)\n",
    "\n",
    "    arr = np.swapaxes(np.array(arrays), 0, 2 )\n",
    "    tif_path = TIF_DIR + filename\n",
    "    tif = rasterio.open(tif_path, 'w', driver='GTiff',\n",
    "                            height = arr.shape[0], width = arr.shape[1],\n",
    "                            count=8, dtype=str(arr.dtype),\n",
    "                            crs='epsg:3857',\n",
    "                            transform=None)\n",
    "    for i in range(len(BANDS)):\n",
    "        tif.write(arr[:,:,i],i+1)\n",
    "    tif.close()\n",
    "\n",
    "    return "
   ]
  },
  {
   "cell_type": "code",
   "execution_count": 8,
   "id": "75d42408",
   "metadata": {},
   "outputs": [
    {
     "name": "stdout",
     "output_type": "stream",
     "text": [
      "2015\n",
      "2013\n",
      "2017\n",
      "2014\n",
      "2018\n",
      "2016\n",
      "2019\n"
     ]
    }
   ],
   "source": [
    "for year in records:\n",
    "    print(year)\n",
    "    for country in records[year]:\n",
    "        if records[year][country]==[]:\n",
    "            continue\n",
    "        for tfrecord_archive in records[year][country]:\n",
    "            if tfrecord_archive[-3:] == '.gz':\n",
    "                tfrecord = decompress_tfrecord(tfrecord_archive=tfrecord_archive)\n",
    "                tfrecord = tfrecord_archive[:-3]\n",
    "            else:\n",
    "                tfrecord = tfrecord_archive\n",
    "            dataset = TFRecordDataset(tfrecord, index_path=None, description=DESCRIPTOR)\n",
    "            loader = torch.utils.data.DataLoader(dataset, batch_size=1)\n",
    "            iterator = iter(loader)\n",
    "            while (data := next(iterator, None)) is not None:\n",
    "                filename = str(country)+\"_\"+str(year)+\"/\"+tensor_to_string(data, \"cluster\")[:-1]+\".tif\"\n",
    "                tfrecord_to_tif(data, filename)"
   ]
  },
  {
   "attachments": {},
   "cell_type": "markdown",
   "id": "4151acf6",
   "metadata": {},
   "source": [
    "#### Get `MEAN` and `STD` over the dataset"
   ]
  },
  {
   "cell_type": "code",
   "execution_count": null,
   "id": "859ea7de",
   "metadata": {},
   "outputs": [],
   "source": [
    "from helper import get_dataset_mean, get_dataset_std\n",
    "import pickle\n",
    "IMAGE_DIR = os.path.join( 'data', 'landsat_7', '')\n",
    "NORMALIZER = os.path.join( 'data_handlers', 'normalizer.pkl')"
   ]
  },
  {
   "cell_type": "code",
   "execution_count": null,
   "id": "f30f2c08",
   "metadata": {},
   "outputs": [],
   "source": [
    "mean = get_dataset_mean( image_dir=IMAGE_DIR, num_channels=8 )"
   ]
  },
  {
   "cell_type": "code",
   "execution_count": null,
   "id": "4996b875",
   "metadata": {},
   "outputs": [],
   "source": [
    "std = get_dataset_std( image_dir=IMAGE_DIR, num_channels=8 )"
   ]
  },
  {
   "cell_type": "code",
   "execution_count": null,
   "id": "c288639e",
   "metadata": {},
   "outputs": [],
   "source": [
    "normalizer = dict()\n",
    "normalizer['landsat_+_nightlights'] = mean, std\n",
    "with open(NORMALIZER, \"wb\") as output_file:\n",
    "    pickle.dump(normalizer, output_file)"
   ]
  }
 ],
 "metadata": {
  "kernelspec": {
   "display_name": "mpa_env",
   "language": "python",
   "name": "python3"
  },
  "language_info": {
   "codemirror_mode": {
    "name": "ipython",
    "version": 3
   },
   "file_extension": ".py",
   "mimetype": "text/x-python",
   "name": "python",
   "nbconvert_exporter": "python",
   "pygments_lexer": "ipython3",
   "version": "3.10.10"
  },
  "vscode": {
   "interpreter": {
    "hash": "01ed5c42258d104453582e2fee2faf5d01150c2a161fd6cc7123c0fdfe444c60"
   }
  }
 },
 "nbformat": 4,
 "nbformat_minor": 5
}
