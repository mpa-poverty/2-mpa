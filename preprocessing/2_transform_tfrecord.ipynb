{
 "cells": [
  {
   "cell_type": "code",
   "execution_count": 1,
   "id": "4b1ff8fa",
   "metadata": {},
   "outputs": [
    {
     "name": "stderr",
     "output_type": "stream",
     "text": [
      "/home/matthieu/anaconda3/envs/mpa_env/lib/python3.10/site-packages/tqdm/auto.py:21: TqdmWarning: IProgress not found. Please update jupyter and ipywidgets. See https://ipywidgets.readthedocs.io/en/stable/user_install.html\n",
      "  from .autonotebook import tqdm as notebook_tqdm\n"
     ]
    }
   ],
   "source": [
    "import os \n",
    "import glob\n",
    "import gzip\n",
    "import shutil\n",
    "import torch\n",
    "import rasterio\n",
    "import pandas as pd \n",
    "import numpy as np\n",
    "from tfrecord.torch.dataset import TFRecordDataset"
   ]
  },
  {
   "cell_type": "code",
   "execution_count": 4,
   "id": "ac4fc476",
   "metadata": {},
   "outputs": [],
   "source": [
    "CSV              = os.path.join( \"..\", \"data\", \"dataset.csv\" )\n",
    "RECORDS_DIR      = os.path.join( \"..\", \"data\", \"landsat_7\",\"\" )\n",
    "TIF_DIR          = os.path.join( \"..\", \"data\", \"landsat_7\",\"\" )\n",
    "BANDS            = ['BLUE','GREEN','RED','NIR','SWIR1','SWIR2','TEMP1','NIGHTLIGHTS']\n",
    "DESCRIPTOR       = {\n",
    "                'cluster':\"float\",\n",
    "                'lat':\"float\", \n",
    "                \"lon\":\"float\",\n",
    "                'wealthpooled':\"float\",\n",
    "                'BLUE':\"float\",\n",
    "                'GREEN':\"float\",\n",
    "                'RED':\"float\",\n",
    "                'NIR':\"float\",\n",
    "                'SWIR1':\"float\",\n",
    "                'SWIR2':\"float\",\n",
    "                'TEMP1':\"float\",\n",
    "                'NIGHTLIGHTS':\"float\"\n",
    "              }   "
   ]
  },
  {
   "cell_type": "code",
   "execution_count": 5,
   "id": "0f28f162",
   "metadata": {},
   "outputs": [],
   "source": [
    "csv=pd.read_csv(CSV)"
   ]
  },
  {
   "cell_type": "code",
   "execution_count": 6,
   "id": "45bb2fa5",
   "metadata": {},
   "outputs": [
    {
     "data": {
      "text/plain": [
       "['../data/landsat_7/angola_2011/1.tfrecord',\n",
       " '../data/landsat_7/angola_2011/2.tfrecord',\n",
       " '../data/landsat_7/angola_2011/3.tfrecord',\n",
       " '../data/landsat_7/angola_2011/4.tfrecord',\n",
       " '../data/landsat_7/angola_2011/5.tfrecord']"
      ]
     },
     "execution_count": 6,
     "metadata": {},
     "output_type": "execute_result"
    }
   ],
   "source": [
    "records = dict()\n",
    "for year in csv.year.unique():\n",
    "    records[year]=dict()\n",
    "    sub_year = csv[ csv.year == year ]\n",
    "    for country in sub_year.country.unique():\n",
    "        sub_country = sub_year[ sub_year.country == country ].copy()\n",
    "        pattern = RECORDS_DIR+\"*\"+str(country)+\"_\"+str(year)+\"/*.tfrecord\"\n",
    "        records[year][country] = glob.glob(pattern)\n",
    "records[2011]['angola'][:5]"
   ]
  },
  {
   "cell_type": "code",
   "execution_count": 7,
   "id": "6529207b",
   "metadata": {},
   "outputs": [],
   "source": [
    "def decompress_tfrecord(tfrecord_archive):\n",
    "    with gzip.open(tfrecord_archive, 'rb') as f_in:\n",
    "        # WITHOUT .GZ\n",
    "        with open(tfrecord_archive[:-3], 'wb') as f_out:\n",
    "            shutil.copyfileobj(f_in, f_out)\n",
    "    return tfrecord_archive[:-3]\n",
    "\n",
    "def tensor_to_string(data, variable):\n",
    "    filename = (data[variable].numpy())[0][0]\n",
    "    return str(filename).replace(\".\",\"\")\n",
    "\n",
    "def tfrecord_to_tif(data, filename, mins, maxs):\n",
    "    arrays = []\n",
    "    for i in range(len(BANDS)):\n",
    "        new_arr = data[BANDS[i]][0].numpy().reshape((255,255))\n",
    "        arrays.append(new_arr)\n",
    "        mins[i] = min(mins[i], new_arr.min())\n",
    "        maxs[i] = max(maxs[i], new_arr.max())\n",
    "\n",
    "    arr = np.swapaxes(np.array(arrays), 0, 2 )\n",
    "    tif_path = TIF_DIR + filename\n",
    "    # transform = rasterio.Affine(1, 0, 0, 0, 1, 0)\n",
    "    tif = rasterio.open(tif_path, 'w', driver='GTiff',\n",
    "                            height = arr.shape[0], width = arr.shape[1],\n",
    "                            count=8, dtype=str(arr.dtype),\n",
    "                            crs='epsg:3857',\n",
    "                            transform=None)\n",
    "    for i in range(len(BANDS)):\n",
    "        tif.write(arr[:,:,i],i+1)\n",
    "    tif.close()\n",
    "\n",
    "    return mins, maxs"
   ]
  },
  {
   "cell_type": "code",
   "execution_count": 9,
   "id": "75d42408",
   "metadata": {},
   "outputs": [
    {
     "name": "stdout",
     "output_type": "stream",
     "text": [
      "2011\n",
      "2015\n",
      "2012\n",
      "2017\n",
      "1999\n",
      "2010\n",
      "2014\n",
      "2004\n",
      "2018\n",
      "1998\n",
      "2013\n",
      "2005\n",
      "2016\n",
      "2019\n",
      "2003\n",
      "2009\n",
      "1997\n",
      "1996\n",
      "2006\n"
     ]
    }
   ],
   "source": [
    "mins=[1e3, 1e3, 1e3, 1e3, 1e3, 1e3, 1e3, 1e3]\n",
    "maxs=[-1e3, -1e3, -1e3, -1e3, -1e3, -1e3, -1e3, -1e3]\n",
    "given_names = set()\n",
    "for year in records:\n",
    "    print(year)\n",
    "    for country in records[year]:\n",
    "        if records[year][country]==[]:\n",
    "            continue\n",
    "        for tfrecord in records[year][country]:\n",
    "            dataset = TFRecordDataset(tfrecord, index_path=None, description=DESCRIPTOR)\n",
    "            loader = torch.utils.data.DataLoader(dataset, batch_size=1)\n",
    "            iterator = iter(loader)\n",
    "            while (data := next(iterator, None)) is not None:\n",
    "                filename = str(country)+\"_\"+str(year)+\"/\"+tensor_to_string(data, \"cluster\")[:-1]+\".tif\"\n",
    "                mins, maxs = tfrecord_to_tif(data, filename, mins, maxs)"
   ]
  },
  {
   "cell_type": "code",
   "execution_count": 10,
   "id": "e5fa3813",
   "metadata": {},
   "outputs": [
    {
     "name": "stdout",
     "output_type": "stream",
     "text": [
      "[-0.0994, -0.0574, -0.0318, -0.0209, -0.0102, -0.0152, 0.0, -0.07087274] [2.0, 2.0, 2.0, 2.0, 2.0, 2.0, 316.7, 3104.1401]\n"
     ]
    }
   ],
   "source": [
    "print(mins, maxs)"
   ]
  },
  {
   "cell_type": "code",
   "execution_count": null,
   "id": "b643ebd6",
   "metadata": {},
   "outputs": [],
   "source": [
    "# CHECK INTEGRITY\n",
    "records = dict()\n",
    "for year in csv.year.unique():\n",
    "    records[year]=dict()\n",
    "    sub_year = csv[ csv.year == year ]\n",
    "    for country in sub_year.country.unique():\n",
    "        sub_country = sub_year[ sub_year.country == country ].copy()\n",
    "        pattern = RECORDS_DIR+\"*\"+str(country)+\"_\"+str(year)+\"/*.tif\"\n",
    "        records[year][country] = glob.glob(pattern)\n",
    "for year in records:\n",
    "    print(year)\n",
    "    for country in records[year]:\n",
    "        if records[year][country]==[]:\n",
    "            continue\n",
    "        for tif in records[year][country]:\n",
    "            tile = rasterio.open(tif) \n",
    "            tile_= tile.read()\n",
    "            "
   ]
  },
  {
   "cell_type": "code",
   "execution_count": 13,
   "id": "e0605d3f",
   "metadata": {},
   "outputs": [],
   "source": [
    "def map_filename( row ):\n",
    "    row.filename = row.country+\"_\"+str(row.year)+\"/\"+str(row.cluster)+\".tif\"\n",
    "    return row\n",
    "\n",
    "csv = csv.apply(map_filename, axis=1)\n",
    "csv.to_csv(CSV,index=False)"
   ]
  },
  {
   "cell_type": "code",
   "execution_count": 14,
   "id": "e4e128d9",
   "metadata": {},
   "outputs": [
    {
     "data": {
      "text/html": [
       "<div>\n",
       "<style scoped>\n",
       "    .dataframe tbody tr th:only-of-type {\n",
       "        vertical-align: middle;\n",
       "    }\n",
       "\n",
       "    .dataframe tbody tr th {\n",
       "        vertical-align: top;\n",
       "    }\n",
       "\n",
       "    .dataframe thead th {\n",
       "        text-align: right;\n",
       "    }\n",
       "</style>\n",
       "<table border=\"1\" class=\"dataframe\">\n",
       "  <thead>\n",
       "    <tr style=\"text-align: right;\">\n",
       "      <th></th>\n",
       "      <th>country</th>\n",
       "      <th>year</th>\n",
       "      <th>cluster</th>\n",
       "      <th>lat</th>\n",
       "      <th>lon</th>\n",
       "      <th>households</th>\n",
       "      <th>wealthpooled</th>\n",
       "      <th>geometry</th>\n",
       "      <th>filename</th>\n",
       "      <th>bounding_box</th>\n",
       "    </tr>\n",
       "  </thead>\n",
       "  <tbody>\n",
       "    <tr>\n",
       "      <th>0</th>\n",
       "      <td>angola</td>\n",
       "      <td>2011</td>\n",
       "      <td>1</td>\n",
       "      <td>-12.350257</td>\n",
       "      <td>13.534922</td>\n",
       "      <td>36</td>\n",
       "      <td>2.312757</td>\n",
       "      <td>POINT (1506700.58557273 -1385596.0684884773)</td>\n",
       "      <td>angola_2011/1.tif</td>\n",
       "      <td>POLYGON ((1503340.58557273 -1388956.0684884773...</td>\n",
       "    </tr>\n",
       "    <tr>\n",
       "      <th>1</th>\n",
       "      <td>angola</td>\n",
       "      <td>2011</td>\n",
       "      <td>2</td>\n",
       "      <td>-12.360865</td>\n",
       "      <td>13.551494</td>\n",
       "      <td>32</td>\n",
       "      <td>2.010293</td>\n",
       "      <td>POINT (1508545.372017885 -1386804.9130245172)</td>\n",
       "      <td>angola_2011/2.tif</td>\n",
       "      <td>POLYGON ((1505185.372017885 -1390164.913024517...</td>\n",
       "    </tr>\n",
       "    <tr>\n",
       "      <th>2</th>\n",
       "      <td>angola</td>\n",
       "      <td>2011</td>\n",
       "      <td>3</td>\n",
       "      <td>-12.613421</td>\n",
       "      <td>13.413085</td>\n",
       "      <td>36</td>\n",
       "      <td>0.877744</td>\n",
       "      <td>POINT (1493137.790366379 -1415600.6075743325)</td>\n",
       "      <td>angola_2011/3.tif</td>\n",
       "      <td>POLYGON ((1489777.790366379 -1418960.607574332...</td>\n",
       "    </tr>\n",
       "    <tr>\n",
       "      <th>3</th>\n",
       "      <td>angola</td>\n",
       "      <td>2011</td>\n",
       "      <td>4</td>\n",
       "      <td>-12.581454</td>\n",
       "      <td>13.397711</td>\n",
       "      <td>35</td>\n",
       "      <td>1.066994</td>\n",
       "      <td>POINT (1491426.3440705661 -1411954.2588894619)</td>\n",
       "      <td>angola_2011/4.tif</td>\n",
       "      <td>POLYGON ((1488066.3440705661 -1415314.25888946...</td>\n",
       "    </tr>\n",
       "    <tr>\n",
       "      <th>4</th>\n",
       "      <td>angola</td>\n",
       "      <td>2011</td>\n",
       "      <td>5</td>\n",
       "      <td>-12.578135</td>\n",
       "      <td>13.418748</td>\n",
       "      <td>37</td>\n",
       "      <td>1.750153</td>\n",
       "      <td>POINT (1493768.1835246533 -1411575.617279712)</td>\n",
       "      <td>angola_2011/5.tif</td>\n",
       "      <td>POLYGON ((1490408.1835246533 -1414935.61727971...</td>\n",
       "    </tr>\n",
       "  </tbody>\n",
       "</table>\n",
       "</div>"
      ],
      "text/plain": [
       "  country  year  cluster        lat        lon  households  wealthpooled  \\\n",
       "0  angola  2011        1 -12.350257  13.534922          36      2.312757   \n",
       "1  angola  2011        2 -12.360865  13.551494          32      2.010293   \n",
       "2  angola  2011        3 -12.613421  13.413085          36      0.877744   \n",
       "3  angola  2011        4 -12.581454  13.397711          35      1.066994   \n",
       "4  angola  2011        5 -12.578135  13.418748          37      1.750153   \n",
       "\n",
       "                                         geometry           filename  \\\n",
       "0    POINT (1506700.58557273 -1385596.0684884773)  angola_2011/1.tif   \n",
       "1   POINT (1508545.372017885 -1386804.9130245172)  angola_2011/2.tif   \n",
       "2   POINT (1493137.790366379 -1415600.6075743325)  angola_2011/3.tif   \n",
       "3  POINT (1491426.3440705661 -1411954.2588894619)  angola_2011/4.tif   \n",
       "4   POINT (1493768.1835246533 -1411575.617279712)  angola_2011/5.tif   \n",
       "\n",
       "                                        bounding_box  \n",
       "0  POLYGON ((1503340.58557273 -1388956.0684884773...  \n",
       "1  POLYGON ((1505185.372017885 -1390164.913024517...  \n",
       "2  POLYGON ((1489777.790366379 -1418960.607574332...  \n",
       "3  POLYGON ((1488066.3440705661 -1415314.25888946...  \n",
       "4  POLYGON ((1490408.1835246533 -1414935.61727971...  "
      ]
     },
     "execution_count": 14,
     "metadata": {},
     "output_type": "execute_result"
    }
   ],
   "source": [
    "csv.head()"
   ]
  },
  {
   "cell_type": "code",
   "execution_count": 15,
   "id": "dcb33332",
   "metadata": {},
   "outputs": [
    {
     "name": "stdout",
     "output_type": "stream",
     "text": [
      "32466\n",
      "32201\n"
     ]
    }
   ],
   "source": [
    "print(len(csv))\n",
    "print(len(csv.filename.unique()))"
   ]
  },
  {
   "cell_type": "code",
   "execution_count": null,
   "id": "3e66d429",
   "metadata": {},
   "outputs": [],
   "source": []
  }
 ],
 "metadata": {
  "kernelspec": {
   "display_name": "mpa_env",
   "language": "python",
   "name": "python3"
  },
  "language_info": {
   "codemirror_mode": {
    "name": "ipython",
    "version": 3
   },
   "file_extension": ".py",
   "mimetype": "text/x-python",
   "name": "python",
   "nbconvert_exporter": "python",
   "pygments_lexer": "ipython3",
   "version": "3.10.10"
  },
  "vscode": {
   "interpreter": {
    "hash": "01ed5c42258d104453582e2fee2faf5d01150c2a161fd6cc7123c0fdfe444c60"
   }
  }
 },
 "nbformat": 4,
 "nbformat_minor": 5
}
