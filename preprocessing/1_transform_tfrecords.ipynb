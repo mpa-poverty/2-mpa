{
 "cells": [
  {
   "cell_type": "code",
   "execution_count": 1,
   "id": "4b1ff8fa",
   "metadata": {},
   "outputs": [
    {
     "name": "stderr",
     "output_type": "stream",
     "text": [
      "/home/matthieu/anaconda3/envs/mpa_env/lib/python3.10/site-packages/tqdm/auto.py:21: TqdmWarning: IProgress not found. Please update jupyter and ipywidgets. See https://ipywidgets.readthedocs.io/en/stable/user_install.html\n",
      "  from .autonotebook import tqdm as notebook_tqdm\n"
     ]
    }
   ],
   "source": [
    "import os \n",
    "import glob\n",
    "\n",
    "import torch\n",
    "import rasterio\n",
    "import pandas as pd \n",
    "import numpy as np\n",
    "from tfrecord.torch.dataset import TFRecordDataset"
   ]
  },
  {
   "cell_type": "code",
   "execution_count": 4,
   "id": "ac4fc476",
   "metadata": {},
   "outputs": [],
   "source": [
    "CSV              = os.path.join( \"..\", \"data\", \"geometry_less_dataset.csv\" )\n",
    "RECORDS_DIR      = os.path.join( \"..\", \"data\", \"landsat_7\", \"\" )\n",
    "TIF_DIR          = os.path.join( \"..\", \"data\", \"landsat_tif\",\"\" )\n",
    "BANDS            = ['BLUE','GREEN','RED','NIR','SWIR1','SWIR2','TEMP1','NIGHTLIGHTS']\n",
    "DESCRIPTOR       = {\n",
    "                'system:index':\"byte\",\n",
    "                'filename':\"byte\", \n",
    "                'wealthpooled':\"float\",\n",
    "                'bounding_box':\"byte\",\n",
    "                'BLUE':\"float\",\n",
    "                'GREEN':\"float\",\n",
    "                'RED':\"float\",\n",
    "                'NIR':\"float\",\n",
    "                'SWIR1':\"float\",\n",
    "                'SWIR2':\"float\",\n",
    "                'TEMP1':\"float\",\n",
    "                'NIGHTLIGHTS':\"float\"\n",
    "              }   "
   ]
  },
  {
   "cell_type": "code",
   "execution_count": 5,
   "id": "c5a1dbda",
   "metadata": {},
   "outputs": [
    {
     "data": {
      "text/html": [
       "<div>\n",
       "<style scoped>\n",
       "    .dataframe tbody tr th:only-of-type {\n",
       "        vertical-align: middle;\n",
       "    }\n",
       "\n",
       "    .dataframe tbody tr th {\n",
       "        vertical-align: top;\n",
       "    }\n",
       "\n",
       "    .dataframe thead th {\n",
       "        text-align: right;\n",
       "    }\n",
       "</style>\n",
       "<table border=\"1\" class=\"dataframe\">\n",
       "  <thead>\n",
       "    <tr style=\"text-align: right;\">\n",
       "      <th></th>\n",
       "      <th>country</th>\n",
       "      <th>year</th>\n",
       "      <th>cluster</th>\n",
       "      <th>lat</th>\n",
       "      <th>lon</th>\n",
       "      <th>households</th>\n",
       "      <th>wealthpooled</th>\n",
       "      <th>filename</th>\n",
       "    </tr>\n",
       "  </thead>\n",
       "  <tbody>\n",
       "    <tr>\n",
       "      <th>0</th>\n",
       "      <td>angola</td>\n",
       "      <td>2011</td>\n",
       "      <td>1</td>\n",
       "      <td>-12.350257</td>\n",
       "      <td>13.534922</td>\n",
       "      <td>36</td>\n",
       "      <td>2.312757</td>\n",
       "      <td>-12_3_13_53.tif</td>\n",
       "    </tr>\n",
       "    <tr>\n",
       "      <th>1</th>\n",
       "      <td>angola</td>\n",
       "      <td>2011</td>\n",
       "      <td>2</td>\n",
       "      <td>-12.360865</td>\n",
       "      <td>13.551494</td>\n",
       "      <td>32</td>\n",
       "      <td>2.010293</td>\n",
       "      <td>-12_3_13_55.tif</td>\n",
       "    </tr>\n",
       "    <tr>\n",
       "      <th>2</th>\n",
       "      <td>angola</td>\n",
       "      <td>2011</td>\n",
       "      <td>3</td>\n",
       "      <td>-12.613421</td>\n",
       "      <td>13.413085</td>\n",
       "      <td>36</td>\n",
       "      <td>0.877744</td>\n",
       "      <td>-12_6_13_41.tif</td>\n",
       "    </tr>\n",
       "    <tr>\n",
       "      <th>3</th>\n",
       "      <td>angola</td>\n",
       "      <td>2011</td>\n",
       "      <td>4</td>\n",
       "      <td>-12.581454</td>\n",
       "      <td>13.397711</td>\n",
       "      <td>35</td>\n",
       "      <td>1.066994</td>\n",
       "      <td>-12_5_13_39.tif</td>\n",
       "    </tr>\n",
       "    <tr>\n",
       "      <th>4</th>\n",
       "      <td>angola</td>\n",
       "      <td>2011</td>\n",
       "      <td>5</td>\n",
       "      <td>-12.578135</td>\n",
       "      <td>13.418748</td>\n",
       "      <td>37</td>\n",
       "      <td>1.750153</td>\n",
       "      <td>-12_5_13_41.tif</td>\n",
       "    </tr>\n",
       "  </tbody>\n",
       "</table>\n",
       "</div>"
      ],
      "text/plain": [
       "  country  year  cluster        lat        lon  households  wealthpooled  \\\n",
       "0  angola  2011        1 -12.350257  13.534922          36      2.312757   \n",
       "1  angola  2011        2 -12.360865  13.551494          32      2.010293   \n",
       "2  angola  2011        3 -12.613421  13.413085          36      0.877744   \n",
       "3  angola  2011        4 -12.581454  13.397711          35      1.066994   \n",
       "4  angola  2011        5 -12.578135  13.418748          37      1.750153   \n",
       "\n",
       "          filename  \n",
       "0  -12_3_13_53.tif  \n",
       "1  -12_3_13_55.tif  \n",
       "2  -12_6_13_41.tif  \n",
       "3  -12_5_13_39.tif  \n",
       "4  -12_5_13_41.tif  "
      ]
     },
     "execution_count": 5,
     "metadata": {},
     "output_type": "execute_result"
    }
   ],
   "source": [
    "csv = pd.read_csv(CSV)\n",
    "csv.head()"
   ]
  },
  {
   "cell_type": "code",
   "execution_count": 6,
   "id": "45bb2fa5",
   "metadata": {},
   "outputs": [],
   "source": [
    "records = dict()\n",
    "for year in csv.year.unique():\n",
    "    records[year]=dict()\n",
    "    sub_year = csv[ csv.year == year ]\n",
    "    for country in sub_year.country.unique():\n",
    "        sub_country = sub_year[ sub_year.country == country ].copy()\n",
    "        pattern = RECORDS_DIR+\"*\"+str(country)+\"_\"+str(year)+\"*.tfrecord\"\n",
    "        # files = [file.replace('(1)','') for file in glob.glob(pattern)]\n",
    "        records[year][country] = glob.glob(pattern)\n"
   ]
  },
  {
   "cell_type": "code",
   "execution_count": 7,
   "id": "6529207b",
   "metadata": {},
   "outputs": [],
   "source": [
    "def tensor_to_string(data, variable):\n",
    "    filename = (data[variable].numpy())[0]\n",
    "    return \"\".join([chr(item) for item in filename])\n",
    "\n",
    "def update_csv(csv, idx, bounding_box, filename):\n",
    "    csv.iloc[int(idx), csv.columns.get_loc('geometry')] = bounding_box\n",
    "    csv.iloc[int(idx), csv.columns.get_loc('filename')] = filename\n",
    "    return csv\n",
    "\n",
    "def tfrecord_to_tif(data, filename, mins, maxs):\n",
    "    arrays = []\n",
    "    for i in range in len(BANDS):\n",
    "        new_arr = data[BANDS[i]][0].numpy().reshape((255,255))\n",
    "        arrays.append(new_arr)\n",
    "        mins[i] = min(mins[i], new_arr.min())\n",
    "        maxs[i] = max(maxs[i], new_arr.max())\n",
    "\n",
    "    arr = np.swapaxes(np.array(arrays), 0,2 )\n",
    "    tif_path = TIF_DIR + filename\n",
    "    transform = rasterio.Affine(1, 0, 0, 0, 1, 0)\n",
    "    tif = rasterio.open(tif_path, 'w', driver='GTiff',\n",
    "                            height = arr.shape[0], width = arr.shape[1],\n",
    "                            count=7, dtype=str(arr.dtype),\n",
    "                            crs='epsg:3857',\n",
    "                            transform=transform)\n",
    "    for i in range(len(BANDS)):\n",
    "        tif.write(arr[:,:,i],i+1)\n",
    "    tif.close()\n",
    "\n",
    "    return mins, maxs"
   ]
  },
  {
   "cell_type": "code",
   "execution_count": 8,
   "id": "75d42408",
   "metadata": {},
   "outputs": [],
   "source": [
    "mins=[1e3, 1e3, 1e3, 1e3, 1e3, 1e3, 1e3, 1e3]\n",
    "maxs=[-1e3, -1e3, -1e3, -1e3, -1e3, -1e3, -1e3, -1e3]\n",
    "\n",
    "for year in records:\n",
    "    for country in records[year]:\n",
    "        if records[year][country]==[]:\n",
    "            continue\n",
    "        tfrecord_path = records[year][country][0]\n",
    "        dataset = TFRecordDataset(tfrecord_path, index_path=None, description=DESCRIPTOR)\n",
    "        loader = torch.utils.data.DataLoader(dataset, batch_size=1)\n",
    "        iterator = iter(loader)\n",
    "        while (data := next(iterator, None)) is not None:\n",
    "            idx = tensor_to_string(data, \"system:index\")\n",
    "            filename = tensor_to_string(data, \"filename\")\n",
    "            bounding_box = tensor_to_string(data, \"bounding_box\")\n",
    "            csv = update_csv(csv, idx, bounding_box, filename)\n",
    "            mins, maxs = tfrecord_to_tif(data, filename)"
   ]
  },
  {
   "cell_type": "code",
   "execution_count": 9,
   "id": "e5fa3813",
   "metadata": {},
   "outputs": [
    {
     "name": "stdout",
     "output_type": "stream",
     "text": [
      "[1000.0, 1000.0, 1000.0, 1000.0, 1000.0, 1000.0, 1000.0, 1000.0] [-1000.0, -1000.0, -1000.0, -1000.0, -1000.0, -1000.0, -1000.0, -1000.0]\n"
     ]
    }
   ],
   "source": [
    "print(mins, maxs)"
   ]
  },
  {
   "cell_type": "code",
   "execution_count": null,
   "id": "476b8b44",
   "metadata": {},
   "outputs": [],
   "source": []
  }
 ],
 "metadata": {
  "kernelspec": {
   "display_name": "mpa_env",
   "language": "python",
   "name": "python3"
  },
  "language_info": {
   "codemirror_mode": {
    "name": "ipython",
    "version": 3
   },
   "file_extension": ".py",
   "mimetype": "text/x-python",
   "name": "python",
   "nbconvert_exporter": "python",
   "pygments_lexer": "ipython3",
   "version": "3.10.10"
  },
  "vscode": {
   "interpreter": {
    "hash": "01ed5c42258d104453582e2fee2faf5d01150c2a161fd6cc7123c0fdfe444c60"
   }
  }
 },
 "nbformat": 4,
 "nbformat_minor": 5
}
