{
 "cells": [
  {
   "cell_type": "code",
   "execution_count": 108,
   "id": "4b1ff8fa",
   "metadata": {},
   "outputs": [],
   "source": [
    "import os \n",
    "import glob\n",
    "\n",
    "import rasterio\n",
    "import pandas as pd \n",
    "import numpy as np\n",
    "import torch\n",
    "from tfrecord.torch.dataset import TFRecordDataset"
   ]
  },
  {
   "cell_type": "code",
   "execution_count": 121,
   "id": "ac4fc476",
   "metadata": {},
   "outputs": [],
   "source": [
    "CSV              = os.path.join( \"..\", \"data\", \"wealth_index.csv\" )\n",
    "RECORDS_DIR      = os.path.join( \"..\", \"data\", \"landsat_7\", \"\" )\n",
    "TIF_DIR          = os.path.join( \"..\", \"data\", \"landsat_tif\",\"\" )\n",
    "BANDS            = ['BLUE','GREEN','RED','NIR','SWIR1','SWIR2','TEMP1']\n",
    "DESCRIPTOR       = {'filename':\"byte\", \n",
    "               'wealthpooled':\"float\",\n",
    "               'system:index':\"byte\",\n",
    "               'bounding_box':\"byte\",\n",
    "               'BLUE':\"float\",\n",
    "               'GREEN':\"float\",\n",
    "               'RED':\"float\",\n",
    "               'NIR':\"float\",\n",
    "               'SWIR1':\"float\",\n",
    "               'SWIR2':\"float\",\n",
    "               'TEMP1':\"float\"\n",
    "              }   "
   ]
  },
  {
   "cell_type": "code",
   "execution_count": 3,
   "id": "c5a1dbda",
   "metadata": {},
   "outputs": [],
   "source": [
    "csv = pd.read_csv(CSV)"
   ]
  },
  {
   "cell_type": "code",
   "execution_count": 4,
   "id": "45bb2fa5",
   "metadata": {},
   "outputs": [],
   "source": [
    "records = dict()\n",
    "for year in csv.year.unique():\n",
    "    records[year]=dict()\n",
    "    sub_year = csv[ csv.year == year ]\n",
    "    for country in sub_year.country.unique():\n",
    "        sub_country = sub_year[ sub_year.country == country ].copy()\n",
    "        pattern = RECORDS_DIR+\"*\"+str(country)+\"_\"+str(year)+\"*.tfrecord\"\n",
    "        records[year][country] = glob.glob(pattern)# ?"
   ]
  },
  {
   "cell_type": "code",
   "execution_count": 5,
   "id": "fad3224a",
   "metadata": {},
   "outputs": [
    {
     "name": "stdout",
     "output_type": "stream",
     "text": [
      "2014 kenya\n",
      "2018 nigeria\n",
      "2016 ethiopia\n",
      "2019 ethiopia\n"
     ]
    }
   ],
   "source": [
    "for year in records:\n",
    "    for country in records[year]:\n",
    "        if records[year][country]==[]:\n",
    "            print(year, country)"
   ]
  },
  {
   "cell_type": "code",
   "execution_count": 44,
   "id": "ad9e7c21",
   "metadata": {},
   "outputs": [],
   "source": [
    "# WE WILL COMPLETELY LOOP ON YEAR, COUNTRY PAIRS SOON AFTER\n",
    "year = 2011\n",
    "files = records[year]['angola']"
   ]
  },
  {
   "cell_type": "code",
   "execution_count": 122,
   "id": "0abed4c7",
   "metadata": {},
   "outputs": [],
   "source": [
    "# for country in files:\n",
    "tfrecord_path = files[0]\n",
    "#     index_path=None\n",
    "     \n",
    "dataset = TFRecordDataset(tfrecord_path, index_path, DESCRIPTOR)\n"
   ]
  },
  {
   "cell_type": "code",
   "execution_count": 125,
   "id": "6529207b",
   "metadata": {},
   "outputs": [],
   "source": [
    "def tensor_to_string(data, variable):\n",
    "    filename = (data[variable].numpy())[0]\n",
    "    return \"\".join([chr(item) for item in filename])\n",
    "\n",
    "def update_csv(csv, idx, bounding_box, filename):\n",
    "    csv.iloc[int(idx), csv.columns.get_loc('geometry')] = bounding_box\n",
    "    csv.iloc[int(idx), csv.columns.get_loc('filename')] = filename\n",
    "    return csv\n",
    "\n",
    "def tfrecord_to_tif(data, filename):\n",
    "    arrays = []\n",
    "    for band in BANDS:\n",
    "        new_arr = data[band][0].numpy().reshape((255,255))\n",
    "        arrays.append(new_arr)\n",
    "    arr = np.swapaxes(np.array(arrays), 0,2 )\n",
    "    tif_path = TIF_DIR + filename\n",
    "    transform = rasterio.Affine(1, 0, 0, 0, 1, 0)\n",
    "    tif = rasterio.open(tif_path, 'w', driver='GTiff',\n",
    "                            height = arr.shape[0], width = arr.shape[1],\n",
    "                            count=7, dtype=str(arr.dtype),\n",
    "                            crs='epsg:3857',\n",
    "                            transform=transform)\n",
    "    for i in range(len(BANDS)):\n",
    "        tif.write(arr[:,:,i],i+1)\n",
    "    tif.close()"
   ]
  },
  {
   "cell_type": "code",
   "execution_count": 126,
   "id": "75d42408",
   "metadata": {},
   "outputs": [],
   "source": [
    "loader = torch.utils.data.DataLoader(dataset, batch_size=1)\n",
    "tfrecords = iter(loader)\n",
    "while (data := next(tfrecords,None)) is not None:\n",
    "    idx = tensor_to_string(data, \"system:index\")\n",
    "    filename = tensor_to_string(data, \"filename\")\n",
    "    bounding_box = tensor_to_string(data, \"bounding_box\")\n",
    "    csv = update_csv(csv, idx, bounding_box, filename)\n",
    "    tfrecord_to_tif(data, filename)"
   ]
  },
  {
   "cell_type": "code",
   "execution_count": null,
   "id": "628c9a9f",
   "metadata": {},
   "outputs": [],
   "source": []
  }
 ],
 "metadata": {
  "kernelspec": {
   "display_name": "Python 3 (ipykernel)",
   "language": "python",
   "name": "python3"
  },
  "language_info": {
   "codemirror_mode": {
    "name": "ipython",
    "version": 3
   },
   "file_extension": ".py",
   "mimetype": "text/x-python",
   "name": "python",
   "nbconvert_exporter": "python",
   "pygments_lexer": "ipython3",
   "version": "3.10.10"
  }
 },
 "nbformat": 4,
 "nbformat_minor": 5
}
