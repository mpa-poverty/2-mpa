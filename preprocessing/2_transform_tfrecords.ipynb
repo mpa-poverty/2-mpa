{
 "cells": [
  {
   "cell_type": "code",
   "execution_count": 1,
   "id": "4b1ff8fa",
   "metadata": {},
   "outputs": [
    {
     "name": "stderr",
     "output_type": "stream",
     "text": [
      "/home/matthieu/anaconda3/envs/mpa_env/lib/python3.10/site-packages/tqdm/auto.py:21: TqdmWarning: IProgress not found. Please update jupyter and ipywidgets. See https://ipywidgets.readthedocs.io/en/stable/user_install.html\n",
      "  from .autonotebook import tqdm as notebook_tqdm\n"
     ]
    }
   ],
   "source": [
    "import os \n",
    "import glob\n",
    "\n",
    "import rasterio\n",
    "import pandas as pd \n",
    "import numpy as np\n",
    "import torch\n",
    "from tfrecord.torch.dataset import TFRecordDataset"
   ]
  },
  {
   "cell_type": "code",
   "execution_count": 21,
   "id": "ac4fc476",
   "metadata": {},
   "outputs": [],
   "source": [
    "CSV              = os.path.join( \"..\", \"data\", \"wealth_index.csv\" )\n",
    "RECORDS_DIR      = os.path.join( \"..\", \"data\", \"landsat_ali\", \"\" )\n",
    "TIF_DIR          = os.path.join( \"..\", \"data\", \"landsat_tif\",\"\" )\n",
    "BANDS            = ['BLUE','GREEN','RED','NIR','SWIR1','SWIR2','TEMP1']\n",
    "DESCRIPTOR       = {\n",
    "                'system:index':\"byte\",\n",
    "                'filename':\"byte\", \n",
    "                'wealthpooled':\"float\",\n",
    "                'bounding_box':\"byte\",\n",
    "                'BLUE':\"float\",\n",
    "                'GREEN':\"float\",\n",
    "                'RED':\"float\",\n",
    "                'NIR':\"float\",\n",
    "                'SWIR1':\"float\",\n",
    "                'SWIR2':\"float\",\n",
    "                'TEMP1':\"float\"\n",
    "              }   "
   ]
  },
  {
   "cell_type": "code",
   "execution_count": 9,
   "id": "c5a1dbda",
   "metadata": {},
   "outputs": [],
   "source": [
    "csv = pd.read_csv(CSV)"
   ]
  },
  {
   "cell_type": "code",
   "execution_count": 27,
   "id": "45bb2fa5",
   "metadata": {},
   "outputs": [],
   "source": [
    "records = dict()\n",
    "for year in csv.year.unique():\n",
    "    records[year]=dict()\n",
    "    sub_year = csv[ csv.year == year ]\n",
    "    for country in sub_year.country.unique():\n",
    "        sub_country = sub_year[ sub_year.country == country ].copy()\n",
    "        pattern = RECORDS_DIR+\"*\"+str(country)+\"_\"+str(year)+\"*.tfrecord\"\n",
    "        # files = [file.replace('(1)','') for file in glob.glob(pattern)]\n",
    "        records[year][country] = glob.glob(pattern)\n"
   ]
  },
  {
   "cell_type": "code",
   "execution_count": 28,
   "id": "fad3224a",
   "metadata": {},
   "outputs": [
    {
     "name": "stdout",
     "output_type": "stream",
     "text": [
      "2014 kenya\n",
      "2018 nigeria\n",
      "2016 ethiopia\n",
      "2019 ethiopia\n"
     ]
    }
   ],
   "source": [
    "for year in records:\n",
    "    for country in records[year]:\n",
    "        if records[year][country]==[]:\n",
    "            print(year, country)"
   ]
  },
  {
   "cell_type": "code",
   "execution_count": 29,
   "id": "6529207b",
   "metadata": {},
   "outputs": [],
   "source": [
    "def tensor_to_string(data, variable):\n",
    "    filename = (data[variable].numpy())[0]\n",
    "    return \"\".join([chr(item) for item in filename])\n",
    "\n",
    "def update_csv(csv, idx, bounding_box, filename):\n",
    "    csv.iloc[int(idx), csv.columns.get_loc('geometry')] = bounding_box\n",
    "    csv.iloc[int(idx), csv.columns.get_loc('filename')] = filename\n",
    "    return csv\n",
    "\n",
    "def tfrecord_to_tif(data, filename):\n",
    "    arrays = []\n",
    "    for band in BANDS:\n",
    "        new_arr = data[band][0].numpy().reshape((255,255))\n",
    "        arrays.append(new_arr)\n",
    "    arr = np.swapaxes(np.array(arrays), 0,2 )\n",
    "    tif_path = TIF_DIR + filename\n",
    "    transform = rasterio.Affine(1, 0, 0, 0, 1, 0)\n",
    "    tif = rasterio.open(tif_path, 'w', driver='GTiff',\n",
    "                            height = arr.shape[0], width = arr.shape[1],\n",
    "                            count=7, dtype=str(arr.dtype),\n",
    "                            crs='epsg:3857',\n",
    "                            transform=transform)\n",
    "    for i in range(len(BANDS)):\n",
    "        tif.write(arr[:,:,i],i+1)\n",
    "    tif.close()"
   ]
  },
  {
   "cell_type": "code",
   "execution_count": 36,
   "id": "75d42408",
   "metadata": {},
   "outputs": [
    {
     "name": "stderr",
     "output_type": "stream",
     "text": [
      "/home/matthieu/anaconda3/envs/mpa_env/lib/python3.10/site-packages/rasterio/__init__.py:314: NotGeoreferencedWarning: The given matrix is equal to Affine.identity or its flipped counterpart. GDAL may ignore this matrix and save no geotransform without raising an error. This behavior is somewhat driver-specific.\n",
      "  dataset = writer(\n"
     ]
    }
   ],
   "source": [
    "for year in records:\n",
    "    for country in records[year]:\n",
    "        if records[year][country]==[]:\n",
    "            continue\n",
    "        tfrecord_path = records[year][country][0]\n",
    "        dataset = TFRecordDataset(tfrecord_path, index_path=None, description=DESCRIPTOR)\n",
    "        loader = torch.utils.data.DataLoader(dataset, batch_size=1)\n",
    "        iterator = iter(loader)\n",
    "        while (data := next(iterator, None)) is not None:\n",
    "            idx = tensor_to_string(data, \"system:index\")\n",
    "            filename = tensor_to_string(data, \"filename\")\n",
    "            bounding_box = tensor_to_string(data, \"bounding_box\")\n",
    "            csv = update_csv(csv, idx, bounding_box, filename)\n",
    "            tfrecord_to_tif(data, filename)"
   ]
  }
 ],
 "metadata": {
  "kernelspec": {
   "display_name": "Python 3 (ipykernel)",
   "language": "python",
   "name": "python3"
  },
  "language_info": {
   "codemirror_mode": {
    "name": "ipython",
    "version": 3
   },
   "file_extension": ".py",
   "mimetype": "text/x-python",
   "name": "python",
   "nbconvert_exporter": "python",
   "pygments_lexer": "ipython3",
   "version": "3.10.10"
  }
 },
 "nbformat": 4,
 "nbformat_minor": 5
}
