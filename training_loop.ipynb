{
 "cells": [
  {
   "cell_type": "markdown",
   "id": "ee11b763",
   "metadata": {},
   "source": [
    "## Training loop (WIP)"
   ]
  },
  {
   "cell_type": "code",
   "execution_count": 8,
   "id": "065c3f05",
   "metadata": {},
   "outputs": [
    {
     "name": "stdout",
     "output_type": "stream",
     "text": [
      "The autoreload extension is already loaded. To reload it, use:\n",
      "  %reload_ext autoreload\n"
     ]
    }
   ],
   "source": [
    "%load_ext autoreload\n",
    "%autoreload 2"
   ]
  },
  {
   "cell_type": "code",
   "execution_count": 9,
   "id": "7b510c06",
   "metadata": {},
   "outputs": [],
   "source": [
    "from tfrecord.torch.dataset import MultiTFRecordDataset"
   ]
  },
  {
   "cell_type": "code",
   "execution_count": 10,
   "id": "117e1d7d",
   "metadata": {},
   "outputs": [],
   "source": [
    "import torch \n",
    "import torchgeo\n",
    "import json\n",
    "import numpy as np\n",
    "# import pandas as pd\n",
    "from models.resnet18 import ResNet18\n",
    "# from data_handlers.datasets.csv_dataset import CustomDatasetFromCSV \n",
    "from tqdm import tqdm"
   ]
  },
  {
   "cell_type": "markdown",
   "id": "53324bce",
   "metadata": {},
   "source": [
    "1.(WIP) Custom Dataloader "
   ]
  },
  {
   "cell_type": "code",
   "execution_count": 21,
   "id": "47119991",
   "metadata": {},
   "outputs": [
    {
     "name": "stdout",
     "output_type": "stream",
     "text": [
      "['data/datasets/Landsat/madagascar_2016_00.tfrecord']\n"
     ]
    }
   ],
   "source": [
    "import glob\n",
    "\n",
    "train_files = glob.glob('data/datasets/*/*2016*.tfrecord')\n",
    "val_files = glob.glob('data/datasets/*/*2011*.tfrecord')\n",
    "                        \n",
    "print(train_files)"
   ]
  },
  {
   "cell_type": "code",
   "execution_count": 23,
   "id": "790be63a",
   "metadata": {
    "scrolled": true
   },
   "outputs": [
    {
     "name": "stderr",
     "output_type": "stream",
     "text": [
      "2023-03-20 15:50:41.272671: W tensorflow/compiler/xla/stream_executor/platform/default/dso_loader.cc:64] Could not load dynamic library 'libcudart.so.11.0'; dlerror: libcudart.so.11.0: cannot open shared object file: No such file or directory\n",
      "2023-03-20 15:50:41.272828: I tensorflow/compiler/xla/stream_executor/cuda/cudart_stub.cc:29] Ignore above cudart dlerror if you do not have a GPU set up on your machine.\n",
      "2023-03-20 15:51:03.094220: W tensorflow/compiler/xla/stream_executor/platform/default/dso_loader.cc:64] Could not load dynamic library 'libnvinfer.so.7'; dlerror: libnvinfer.so.7: cannot open shared object file: No such file or directory\n",
      "2023-03-20 15:51:03.101266: W tensorflow/compiler/xla/stream_executor/platform/default/dso_loader.cc:64] Could not load dynamic library 'libnvinfer_plugin.so.7'; dlerror: libnvinfer_plugin.so.7: cannot open shared object file: No such file or directory\n",
      "2023-03-20 15:51:03.101357: W tensorflow/compiler/tf2tensorrt/utils/py_utils.cc:38] TF-TRT Warning: Cannot dlopen some TensorRT libraries. If you would like to use Nvidia GPU with TensorRT, please make sure the missing libraries mentioned above are installed properly.\n"
     ]
    }
   ],
   "source": [
    "import tensorflow as tf"
   ]
  },
  {
   "cell_type": "code",
   "execution_count": 25,
   "id": "0119229b",
   "metadata": {},
   "outputs": [],
   "source": [
    "train_feature_description = {    \n",
    "    'LON': tf.io.FixedLenFeature([], tf.float32),\n",
    "    'TEMP1': tf.io.FixedLenFeature([], tf.float32),\n",
    "    'NIR':  tf.io.FixedLenFeature([], tf.float32),\n",
    "    'year': tf.io.FixedLenFeature([], tf.float32), \n",
    "    'system:index': tf.io.FixedLenFeature([], tf.float32),\n",
    "    'lon': tf.io.FixedLenFeature([], tf.float32),\n",
    "    'GREEN': tf.io.FixedLenFeature([], tf.float32), \n",
    "    'RED': tf.io.FixedLenFeature([], tf.float32),\n",
    "    'LAT': tf.io.FixedLenFeature([], tf.float32),\n",
    "    'SWIR2': tf.io.FixedLenFeature([], tf.float32),\n",
    "    'wealthpooled': tf.io.FixedLenFeature([], tf.float32),\n",
    "    'lat': tf.io.FixedLenFeature([], tf.float32),\n",
    "    'NIGHTLIGHTS': tf.io.FixedLenFeature([], tf.float32),\n",
    "    'BLUE': tf.io.FixedLenFeature([], tf.float32),\n",
    "    'country': tf.io.FixedLenFeature([], tf.float32), \n",
    "    'SWIR1': tf.io.FixedLenFeature([], tf.float32),\n",
    "}"
   ]
  },
  {
   "cell_type": "code",
   "execution_count": 26,
   "id": "a991c8a0",
   "metadata": {},
   "outputs": [],
   "source": [
    "def _parse_image_function(example_proto):\n",
    "    return tf.io.parse_single_example(example_proto, train_feature_description)"
   ]
  },
  {
   "cell_type": "code",
   "execution_count": null,
   "id": "6bf8a4c0",
   "metadata": {},
   "outputs": [],
   "source": [
    "# train_ids = []\n",
    "# train_class = []\n",
    "# train_images = []for i in train_files:\n",
    "#     train_image_dataset = tf.data.TFRecordDataset(i)train_image_dataset = train_image_dataset.map(_parse_image_function)ids = [str(id_features['id'].numpy())[2:-1] for id_features in train_image_dataset] # [2:-1] is done to remove b' from 1st and 'from last in train id names\n",
    "#     train_ids = train_ids + idsclasses = [int(class_features['class'].numpy()) for class_features in train_image_dataset]\n",
    "#     train_class = train_class + classesimages = [image_features['image'].numpy() for image_features in train_image_dataset]\n",
    "#     train_images = train_images + images"
   ]
  },
  {
   "cell_type": "markdown",
   "id": "5e214d28",
   "metadata": {},
   "source": [
    "3. Pre-made Dataset"
   ]
  },
  {
   "cell_type": "code",
   "execution_count": 27,
   "id": "ea90944d",
   "metadata": {},
   "outputs": [],
   "source": [
    "PATH = \"./data/datasets/landsat/{}.tfrecord\"\n",
    "splits = {\n",
    "    \"madagascar_1997_00\": 0.25,\n",
    "    \"madagascar_2011_00\": 0.25,\n",
    "    \"madagascar_2013_00\": 0.25,\n",
    "    \"madagascar_2016_00\": 0.25,\n",
    "}\n",
    "description = {\n",
    "    'LON': 'float',\n",
    "    'TEMP1':'float',\n",
    "    'NIR': 'float',\n",
    "    'year':'float', \n",
    "    'system:index':'byte',\n",
    "    'lon':'float',\n",
    "    'GREEN':'float', \n",
    "    'RED':'float',\n",
    "    'LAT':'float',\n",
    "    'SWIR2':'float',\n",
    "    'wealthpooled':'float',\n",
    "    'lat':'float',\n",
    "    'NIGHTLIGHTS':'float',\n",
    "    'BLUE':'float',\n",
    "    'country':'byte', \n",
    "    'SWIR1':'float',\n",
    "}\n",
    "dataset = MultiTFRecordDataset(\n",
    "    PATH, \n",
    "    None, \n",
    "    splits, \n",
    "    description\n",
    ")\n",
    "loader  = torch.utils.data.DataLoader(dataset,batch_size=16)"
   ]
  },
  {
   "cell_type": "markdown",
   "id": "bf5bfa0a",
   "metadata": {},
   "source": [
    "2. Model"
   ]
  },
  {
   "cell_type": "code",
   "execution_count": null,
   "id": "27821153",
   "metadata": {},
   "outputs": [],
   "source": [
    "with open('configs/resnet18_ms.json') as f:\n",
    "    config = json.load(f)\n",
    "    model = ResNet18(config)\n",
    "    model.load_checkpoints('models/checkpoints/resnet18_wang_ckpt.pth')"
   ]
  },
  {
   "cell_type": "code",
   "execution_count": null,
   "id": "b9218d1a",
   "metadata": {},
   "outputs": [],
   "source": [
    "model.train()"
   ]
  },
  {
   "cell_type": "code",
   "execution_count": 8,
   "id": "3cc9ec91",
   "metadata": {},
   "outputs": [
    {
     "ename": "AttributeError",
     "evalue": "'dict' object has no attribute 'shape'",
     "output_type": "error",
     "traceback": [
      "\u001b[0;31m---------------------------------------------------------------------------\u001b[0m",
      "\u001b[0;31mAttributeError\u001b[0m                            Traceback (most recent call last)",
      "\u001b[0;32m/tmp/ipykernel_14072/1233275971.py\u001b[0m in \u001b[0;36m<module>\u001b[0;34m\u001b[0m\n\u001b[1;32m      1\u001b[0m \u001b[0mdata\u001b[0m \u001b[0;34m=\u001b[0m \u001b[0mnext\u001b[0m\u001b[0;34m(\u001b[0m\u001b[0miter\u001b[0m\u001b[0;34m(\u001b[0m\u001b[0mloader\u001b[0m\u001b[0;34m)\u001b[0m\u001b[0;34m)\u001b[0m\u001b[0;34m\u001b[0m\u001b[0;34m\u001b[0m\u001b[0m\n\u001b[1;32m      2\u001b[0m \u001b[0mY\u001b[0m \u001b[0;34m=\u001b[0m \u001b[0mdata\u001b[0m\u001b[0;34m[\u001b[0m\u001b[0;34m'wealthpooled'\u001b[0m\u001b[0;34m]\u001b[0m\u001b[0;34m\u001b[0m\u001b[0;34m\u001b[0m\u001b[0m\n\u001b[0;32m----> 3\u001b[0;31m \u001b[0mprint\u001b[0m\u001b[0;34m(\u001b[0m\u001b[0mY\u001b[0m\u001b[0;34m,\u001b[0m \u001b[0mdata\u001b[0m\u001b[0;34m.\u001b[0m\u001b[0mshape\u001b[0m\u001b[0;34m(\u001b[0m\u001b[0;34m)\u001b[0m\u001b[0;34m)\u001b[0m\u001b[0;34m\u001b[0m\u001b[0;34m\u001b[0m\u001b[0m\n\u001b[0m",
      "\u001b[0;31mAttributeError\u001b[0m: 'dict' object has no attribute 'shape'"
     ]
    }
   ],
   "source": [
    "data = next(iter(loader))\n",
    "Y = data['wealthpooled']\n",
    "print(Y, data.shape())"
   ]
  },
  {
   "cell_type": "code",
   "execution_count": null,
   "id": "a775f665",
   "metadata": {},
   "outputs": [],
   "source": []
  }
 ],
 "metadata": {
  "kernelspec": {
   "display_name": "Python 3 (ipykernel)",
   "language": "python",
   "name": "python3"
  },
  "language_info": {
   "codemirror_mode": {
    "name": "ipython",
    "version": 3
   },
   "file_extension": ".py",
   "mimetype": "text/x-python",
   "name": "python",
   "nbconvert_exporter": "python",
   "pygments_lexer": "ipython3",
   "version": "3.10.10"
  }
 },
 "nbformat": 4,
 "nbformat_minor": 5
}
