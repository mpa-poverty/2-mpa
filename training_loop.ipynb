{
 "cells": [
  {
   "attachments": {},
   "cell_type": "markdown",
   "id": "ee11b763",
   "metadata": {},
   "source": [
    "## Training loop (WIP)"
   ]
  },
  {
   "cell_type": "code",
   "execution_count": 6,
   "id": "065c3f05",
   "metadata": {},
   "outputs": [
    {
     "name": "stdout",
     "output_type": "stream",
     "text": [
      "The autoreload extension is already loaded. To reload it, use:\n",
      "  %reload_ext autoreload\n"
     ]
    }
   ],
   "source": [
    "%load_ext autoreload\n",
    "%autoreload 2|"
   ]
  },
  {
   "cell_type": "code",
   "execution_count": 13,
   "id": "7b510c06",
   "metadata": {},
   "outputs": [],
   "source": [
    "from tfrecord.torch.dataset import MultiTFRecordDataset"
   ]
  },
  {
   "cell_type": "code",
   "execution_count": 10,
   "id": "117e1d7d",
   "metadata": {},
   "outputs": [],
   "source": [
    "import torch \n",
    "import torchvision\n",
    "import numpy as np\n",
    "import pandas as pd\n",
    "from skimage import io, transform\n",
    "from data_handlers.datasets.csv_dataset import CustomDatasetFromCSV \n",
    "from tqdm import tqdm"
   ]
  },
  {
   "cell_type": "code",
   "execution_count": 40,
   "id": "ea90944d",
   "metadata": {},
   "outputs": [],
   "source": [
    "PATH = \"./data/datasets/landsat/{}.tfrecord\"\n",
    "splits = {\n",
    "    \"madagascar_1997_00\": 0.25,\n",
    "    \"madagascar_2011_00\": 0.25,\n",
    "    \"madagascar_2013_00\": 0.25,\n",
    "    \"madagascar_2016_00\": 0.25,\n",
    "}\n",
    "description = {\n",
    "    'LON': 'float',\n",
    "    'TEMP1':'float',\n",
    "    'NIR': 'float',\n",
    "    'year':'float', \n",
    "    'system:index':'byte',\n",
    "    'lon':'float',\n",
    "    'GREEN':'float', \n",
    "    'RED':'float',\n",
    "    'LAT':'float',\n",
    "    'SWIR2':'float',\n",
    "    'wealthpooled':'float',\n",
    "    'lat':'float',\n",
    "    'NIGHTLIGHTS':'float',\n",
    "    'BLUE':'float',\n",
    "    'country':'byte', \n",
    "    'SWIR1':'float',\n",
    "}"
   ]
  },
  {
   "cell_type": "code",
   "execution_count": 41,
   "id": "27821153",
   "metadata": {},
   "outputs": [],
   "source": [
    "dataset = MultiTFRecordDataset(\n",
    "    PATH, \n",
    "    None, \n",
    "    splits, \n",
    "    description\n",
    ")\n",
    "loader  = torch.utils.data.DataLoader(dataset,batch_size=16)"
   ]
  },
  {
   "cell_type": "code",
   "execution_count": 42,
   "id": "3cc9ec91",
   "metadata": {},
   "outputs": [
    {
     "name": "stdout",
     "output_type": "stream",
     "text": [
      "{'LON': tensor([[47.5339, 47.5341, 47.5344,  ..., 47.6018, 47.6020, 47.6023],\n",
      "        [47.4829, 47.4832, 47.4835,  ..., 47.5508, 47.5511, 47.5514],\n",
      "        [47.5134, 47.5136, 47.5139,  ..., 47.5813, 47.5816, 47.5818],\n",
      "        ...,\n",
      "        [47.3282, 47.3285, 47.3288,  ..., 47.3961, 47.3964, 47.3967],\n",
      "        [47.3735, 47.3738, 47.3741,  ..., 47.4414, 47.4417, 47.4420],\n",
      "        [47.3778, 47.3781, 47.3784,  ..., 47.4457, 47.4460, 47.4463]]), 'TEMP1': tensor([[294.7500, 295.0000, 295.2000,  ..., 295.0000, 294.9000, 294.8000],\n",
      "        [293.1000, 292.9000, 292.6500,  ..., 294.0000, 294.4500, 294.9000],\n",
      "        [294.2000, 294.5000, 294.5000,  ..., 296.4000, 296.5000, 296.5000],\n",
      "        ...,\n",
      "        [296.5000, 296.0000, 295.5000,  ..., 296.0000, 296.5000, 297.5000],\n",
      "        [295.0000, 295.5000, 294.5000,  ..., 293.1500, 293.4000, 293.4000],\n",
      "        [298.5500, 298.7000, 298.5000,  ..., 295.4667, 295.6167, 296.0250]]), 'NIR': tensor([[0.0459, 0.0907, 0.1655,  ..., 0.2219, 0.2051, 0.2129],\n",
      "        [0.1214, 0.1474, 0.1815,  ..., 0.2201, 0.2084, 0.2134],\n",
      "        [0.1358, 0.1207, 0.1115,  ..., 0.2517, 0.2161, 0.2418],\n",
      "        ...,\n",
      "        [0.2455, 0.2510, 0.2237,  ..., 0.2533, 0.2853, 0.3049],\n",
      "        [0.2103, 0.2192, 0.2088,  ..., 0.0925, 0.0965, 0.0965],\n",
      "        [0.2271, 0.2403, 0.2362,  ..., 0.2156, 0.2180, 0.2505]]), 'year': tensor([[2016.],\n",
      "        [1997.],\n",
      "        [2011.],\n",
      "        [2011.],\n",
      "        [2013.],\n",
      "        [2016.],\n",
      "        [2011.],\n",
      "        [2011.],\n",
      "        [2011.],\n",
      "        [2011.],\n",
      "        [2013.],\n",
      "        [2011.],\n",
      "        [2016.],\n",
      "        [2011.],\n",
      "        [2011.],\n",
      "        [2016.]]), 'system:index': tensor([[48],\n",
      "        [48],\n",
      "        [48],\n",
      "        [49],\n",
      "        [48],\n",
      "        [49],\n",
      "        [50],\n",
      "        [51],\n",
      "        [52],\n",
      "        [53],\n",
      "        [49],\n",
      "        [54],\n",
      "        [50],\n",
      "        [55],\n",
      "        [56],\n",
      "        [51]], dtype=torch.uint8), 'lon': tensor([[47.5680],\n",
      "        [47.5172],\n",
      "        [47.5477],\n",
      "        [47.5622],\n",
      "        [47.5350],\n",
      "        [47.5716],\n",
      "        [47.5784],\n",
      "        [47.6271],\n",
      "        [47.4557],\n",
      "        [47.5193],\n",
      "        [47.6056],\n",
      "        [47.4808],\n",
      "        [47.6307],\n",
      "        [47.3625],\n",
      "        [47.4077],\n",
      "        [47.4119]]), 'GREEN': tensor([[0.0400, 0.0402, 0.0389,  ..., 0.0720, 0.0644, 0.0655],\n",
      "        [0.0506, 0.0506, 0.0546,  ..., 0.1181, 0.0933, 0.1120],\n",
      "        [0.0445, 0.0430, 0.0440,  ..., 0.0824, 0.0538, 0.0572],\n",
      "        ...,\n",
      "        [0.0774, 0.0832, 0.0761,  ..., 0.0716, 0.0946, 0.1026],\n",
      "        [0.0782, 0.0780, 0.0784,  ..., 0.0619, 0.0681, 0.0681],\n",
      "        [0.0900, 0.0955, 0.0948,  ..., 0.0819, 0.0785, 0.0764]]), 'RED': tensor([[0.0349, 0.0348, 0.0371,  ..., 0.0813, 0.0749, 0.0725],\n",
      "        [0.0529, 0.0580, 0.0648,  ..., 0.1453, 0.1119, 0.1420],\n",
      "        [0.0453, 0.0426, 0.0429,  ..., 0.0970, 0.0590, 0.0788],\n",
      "        ...,\n",
      "        [0.0864, 0.0920, 0.0845,  ..., 0.0865, 0.1307, 0.1494],\n",
      "        [0.0932, 0.0979, 0.0988,  ..., 0.0634, 0.0672, 0.0672],\n",
      "        [0.1175, 0.1284, 0.1273,  ..., 0.1011, 0.0973, 0.0919]]), 'LAT': tensor([[-19.0024, -19.0024, -19.0024,  ..., -18.9376, -18.9376, -18.9376],\n",
      "        [-18.9234, -18.9234, -18.9234,  ..., -18.8586, -18.8586, -18.8586],\n",
      "        [-18.8430, -18.8430, -18.8430,  ..., -18.7782, -18.7782, -18.7782],\n",
      "        ...,\n",
      "        [-18.7821, -18.7821, -18.7821,  ..., -18.7173, -18.7173, -18.7173],\n",
      "        [-18.9170, -18.9170, -18.9170,  ..., -18.8522, -18.8522, -18.8522],\n",
      "        [-18.8655, -18.8655, -18.8655,  ..., -18.8007, -18.8007, -18.8007]]), 'SWIR2': tensor([[0.0177, 0.0278, 0.0505,  ..., 0.0992, 0.0901, 0.0957],\n",
      "        [0.0553, 0.0571, 0.0878,  ..., 0.1945, 0.1679, 0.1813],\n",
      "        [0.0389, 0.0421, 0.0371,  ..., 0.1538, 0.0923, 0.1284],\n",
      "        ...,\n",
      "        [0.1440, 0.1296, 0.0905,  ..., 0.1278, 0.2009, 0.2489],\n",
      "        [0.0796, 0.1073, 0.1007,  ..., 0.0261, 0.0285, 0.0285],\n",
      "        [0.1921, 0.2181, 0.2025,  ..., 0.1372, 0.1331, 0.1390]]), 'wealthpooled': tensor([[ 1.0557],\n",
      "        [ 1.8622],\n",
      "        [ 0.5851],\n",
      "        [ 0.7304],\n",
      "        [ 0.9080],\n",
      "        [ 0.1557],\n",
      "        [ 1.2882],\n",
      "        [ 0.7052],\n",
      "        [ 0.1214],\n",
      "        [ 0.9220],\n",
      "        [ 1.0033],\n",
      "        [ 1.0801],\n",
      "        [-0.1493],\n",
      "        [ 0.0655],\n",
      "        [ 0.1917],\n",
      "        [ 0.3836]]), 'lat': tensor([[-18.9699],\n",
      "        [-18.8910],\n",
      "        [-18.8106],\n",
      "        [-18.8215],\n",
      "        [-18.8450],\n",
      "        [-18.8335],\n",
      "        [-18.8581],\n",
      "        [-18.7512],\n",
      "        [-18.7909],\n",
      "        [-18.8244],\n",
      "        [-18.9460],\n",
      "        [-18.8000],\n",
      "        [-18.8430],\n",
      "        [-18.7497],\n",
      "        [-18.8847],\n",
      "        [-18.8330]]), 'NIGHTLIGHTS': tensor([[ 2.9682,  2.9682,  2.9682,  ...,  3.7032,  3.7032,  2.4692],\n",
      "        [22.0554, 22.0554, 22.0554,  ..., 23.6860, 23.6860, 23.6860],\n",
      "        [21.6743, 21.6743, 21.6743,  ...,  4.1577,  4.1577,  4.1577],\n",
      "        ...,\n",
      "        [ 0.0000,  0.0000,  0.0000,  ...,  0.0000,  0.0000,  0.0000],\n",
      "        [ 0.0000,  0.0000,  0.0000,  ..., 13.7213, 13.7213, 13.7213],\n",
      "        [ 0.1282,  0.1282,  0.1282,  ...,  0.7118,  0.7118,  0.7118]]), 'BLUE': tensor([[0.0240, 0.0211, 0.0224,  ..., 0.0434, 0.0402, 0.0397],\n",
      "        [0.0364, 0.0386, 0.0419,  ..., 0.0818, 0.0654, 0.0813],\n",
      "        [0.0300, 0.0282, 0.0314,  ..., 0.0538, 0.0286, 0.0396],\n",
      "        ...,\n",
      "        [0.0494, 0.0516, 0.0460,  ..., 0.0399, 0.0528, 0.0603],\n",
      "        [0.0449, 0.0443, 0.0443,  ..., 0.0446, 0.0451, 0.0451],\n",
      "        [0.0548, 0.0587, 0.0580,  ..., 0.0515, 0.0475, 0.0434]]), 'country': tensor([[109,  97, 100,  97, 103,  97, 115,  99,  97, 114],\n",
      "        [109,  97, 100,  97, 103,  97, 115,  99,  97, 114],\n",
      "        [109,  97, 100,  97, 103,  97, 115,  99,  97, 114],\n",
      "        [109,  97, 100,  97, 103,  97, 115,  99,  97, 114],\n",
      "        [109,  97, 100,  97, 103,  97, 115,  99,  97, 114],\n",
      "        [109,  97, 100,  97, 103,  97, 115,  99,  97, 114],\n",
      "        [109,  97, 100,  97, 103,  97, 115,  99,  97, 114],\n",
      "        [109,  97, 100,  97, 103,  97, 115,  99,  97, 114],\n",
      "        [109,  97, 100,  97, 103,  97, 115,  99,  97, 114],\n",
      "        [109,  97, 100,  97, 103,  97, 115,  99,  97, 114],\n",
      "        [109,  97, 100,  97, 103,  97, 115,  99,  97, 114],\n",
      "        [109,  97, 100,  97, 103,  97, 115,  99,  97, 114],\n",
      "        [109,  97, 100,  97, 103,  97, 115,  99,  97, 114],\n",
      "        [109,  97, 100,  97, 103,  97, 115,  99,  97, 114],\n",
      "        [109,  97, 100,  97, 103,  97, 115,  99,  97, 114],\n",
      "        [109,  97, 100,  97, 103,  97, 115,  99,  97, 114]], dtype=torch.uint8), 'SWIR1': tensor([[0.0259, 0.0513, 0.0978,  ..., 0.1696, 0.1595, 0.1691],\n",
      "        [0.0929, 0.0918, 0.1451,  ..., 0.2545, 0.2378, 0.2383],\n",
      "        [0.0817, 0.0822, 0.0701,  ..., 0.2200, 0.1567, 0.2131],\n",
      "        ...,\n",
      "        [0.2604, 0.2360, 0.1679,  ..., 0.2266, 0.3435, 0.4254],\n",
      "        [0.1398, 0.1725, 0.1655,  ..., 0.0378, 0.0422, 0.0422],\n",
      "        [0.2671, 0.3008, 0.2797,  ..., 0.2318, 0.2083, 0.2330]])}\n"
     ]
    },
    {
     "name": "stderr",
     "output_type": "stream",
     "text": [
      "/home/matthieu/anaconda3/lib/python3.9/site-packages/torch/utils/data/_utils/collate.py:149: UserWarning: The given NumPy array is not writable, and PyTorch does not support non-writable tensors. This means writing to this tensor will result in undefined behavior. You may want to copy the array to protect its data or make it writable before converting it to a tensor. This type of warning will be suppressed for the rest of this program. (Triggered internally at  /croot/pytorch_1675190298929/work/torch/csrc/utils/tensor_numpy.cpp:172.)\n",
      "  return default_collate([torch.as_tensor(b) for b in batch])\n"
     ]
    }
   ],
   "source": [
    "data = next(iter(loader))\n",
    "print(data)"
   ]
  },
  {
   "cell_type": "code",
   "execution_count": 11,
   "id": "9a81b67d",
   "metadata": {},
   "outputs": [],
   "source": [
    "dataset = CustomDatasetFromCSV( csv_file=\"data/madagascar.csv\", root_dir=\"data/datasets/landsat/\" )"
   ]
  },
  {
   "cell_type": "code",
   "execution_count": 12,
   "id": "6c365879",
   "metadata": {},
   "outputs": [
    {
     "ename": "RasterioIOError",
     "evalue": "data/datasets/landsat/1480.tif: No such file or directory",
     "output_type": "error",
     "traceback": [
      "\u001b[0;31m---------------------------------------------------------------------------\u001b[0m",
      "\u001b[0;31mCPLE_OpenFailedError\u001b[0m                      Traceback (most recent call last)",
      "\u001b[0;32mrasterio/_base.pyx\u001b[0m in \u001b[0;36mrasterio._base.DatasetBase.__init__\u001b[0;34m()\u001b[0m\n",
      "\u001b[0;32mrasterio/_shim.pyx\u001b[0m in \u001b[0;36mrasterio._shim.open_dataset\u001b[0;34m()\u001b[0m\n",
      "\u001b[0;32mrasterio/_err.pyx\u001b[0m in \u001b[0;36mrasterio._err.exc_wrap_pointer\u001b[0;34m()\u001b[0m\n",
      "\u001b[0;31mCPLE_OpenFailedError\u001b[0m: data/datasets/landsat/1480.tif: No such file or directory",
      "\nDuring handling of the above exception, another exception occurred:\n",
      "\u001b[0;31mRasterioIOError\u001b[0m                           Traceback (most recent call last)",
      "\u001b[0;32m/tmp/ipykernel_5810/2458236330.py\u001b[0m in \u001b[0;36m<module>\u001b[0;34m\u001b[0m\n\u001b[1;32m      1\u001b[0m \u001b[0;32mfor\u001b[0m \u001b[0mi\u001b[0m \u001b[0;32min\u001b[0m \u001b[0mrange\u001b[0m\u001b[0;34m(\u001b[0m\u001b[0;36m1480\u001b[0m\u001b[0;34m,\u001b[0m \u001b[0;36m1490\u001b[0m\u001b[0;34m)\u001b[0m\u001b[0;34m:\u001b[0m\u001b[0;34m\u001b[0m\u001b[0;34m\u001b[0m\u001b[0m\n\u001b[0;32m----> 2\u001b[0;31m     \u001b[0mdataset\u001b[0m\u001b[0;34m.\u001b[0m\u001b[0mopen_as_array\u001b[0m\u001b[0;34m(\u001b[0m\u001b[0mi\u001b[0m\u001b[0;34m)\u001b[0m\u001b[0;34m\u001b[0m\u001b[0;34m\u001b[0m\u001b[0m\n\u001b[0m",
      "\u001b[0;32m~/2-mpa/data_handlers/datasets/csv_dataset.py\u001b[0m in \u001b[0;36mopen_as_array\u001b[0;34m(self, idx, invert, rgb_only)\u001b[0m\n\u001b[1;32m     29\u001b[0m \u001b[0;34m\u001b[0m\u001b[0m\n\u001b[1;32m     30\u001b[0m     \u001b[0;32mdef\u001b[0m \u001b[0mopen_as_array\u001b[0m\u001b[0;34m(\u001b[0m\u001b[0mself\u001b[0m\u001b[0;34m,\u001b[0m \u001b[0midx\u001b[0m\u001b[0;34m,\u001b[0m \u001b[0minvert\u001b[0m\u001b[0;34m=\u001b[0m\u001b[0;32mFalse\u001b[0m\u001b[0;34m,\u001b[0m \u001b[0mrgb_only\u001b[0m\u001b[0;34m=\u001b[0m\u001b[0;32mTrue\u001b[0m\u001b[0;34m)\u001b[0m\u001b[0;34m:\u001b[0m\u001b[0;34m\u001b[0m\u001b[0;34m\u001b[0m\u001b[0m\n\u001b[0;32m---> 31\u001b[0;31m         \u001b[0mfile\u001b[0m \u001b[0;34m=\u001b[0m \u001b[0mnp\u001b[0m\u001b[0;34m.\u001b[0m\u001b[0marray\u001b[0m\u001b[0;34m(\u001b[0m\u001b[0mrio\u001b[0m\u001b[0;34m.\u001b[0m\u001b[0mopen\u001b[0m\u001b[0;34m(\u001b[0m\u001b[0mos\u001b[0m\u001b[0;34m.\u001b[0m\u001b[0mpath\u001b[0m\u001b[0;34m.\u001b[0m\u001b[0mjoin\u001b[0m\u001b[0;34m(\u001b[0m\u001b[0mself\u001b[0m\u001b[0;34m.\u001b[0m\u001b[0mroot_dir\u001b[0m\u001b[0;34m,\u001b[0m\u001b[0mstr\u001b[0m\u001b[0;34m(\u001b[0m\u001b[0midx\u001b[0m\u001b[0;34m)\u001b[0m\u001b[0;34m+\u001b[0m\u001b[0;34m'.tif'\u001b[0m\u001b[0;34m)\u001b[0m\u001b[0;34m)\u001b[0m\u001b[0;34m.\u001b[0m\u001b[0mread\u001b[0m\u001b[0;34m(\u001b[0m\u001b[0;34m)\u001b[0m\u001b[0;34m)\u001b[0m\u001b[0;34m\u001b[0m\u001b[0;34m\u001b[0m\u001b[0m\n\u001b[0m\u001b[1;32m     32\u001b[0m         \u001b[0mfile_rgb\u001b[0m \u001b[0;34m=\u001b[0m \u001b[0mnp\u001b[0m\u001b[0;34m.\u001b[0m\u001b[0mnan_to_num\u001b[0m\u001b[0;34m(\u001b[0m\u001b[0mfile\u001b[0m\u001b[0;34m)\u001b[0m\u001b[0;34m\u001b[0m\u001b[0;34m\u001b[0m\u001b[0m\n\u001b[1;32m     33\u001b[0m         \u001b[0mfile_rgb\u001b[0m \u001b[0;34m=\u001b[0m \u001b[0mfile_rgb\u001b[0m\u001b[0;34m[\u001b[0m\u001b[0;34m:\u001b[0m\u001b[0;36m3\u001b[0m\u001b[0;34m,\u001b[0m\u001b[0;34m:\u001b[0m\u001b[0;34m,\u001b[0m\u001b[0;34m:\u001b[0m\u001b[0;34m]\u001b[0m\u001b[0;34m\u001b[0m\u001b[0;34m\u001b[0m\u001b[0m\n",
      "\u001b[0;32m~/anaconda3/lib/python3.9/site-packages/rasterio/env.py\u001b[0m in \u001b[0;36mwrapper\u001b[0;34m(*args, **kwds)\u001b[0m\n\u001b[1;32m    435\u001b[0m \u001b[0;34m\u001b[0m\u001b[0m\n\u001b[1;32m    436\u001b[0m         \u001b[0;32mwith\u001b[0m \u001b[0menv_ctor\u001b[0m\u001b[0;34m(\u001b[0m\u001b[0msession\u001b[0m\u001b[0;34m=\u001b[0m\u001b[0msession\u001b[0m\u001b[0;34m)\u001b[0m\u001b[0;34m:\u001b[0m\u001b[0;34m\u001b[0m\u001b[0;34m\u001b[0m\u001b[0m\n\u001b[0;32m--> 437\u001b[0;31m             \u001b[0;32mreturn\u001b[0m \u001b[0mf\u001b[0m\u001b[0;34m(\u001b[0m\u001b[0;34m*\u001b[0m\u001b[0margs\u001b[0m\u001b[0;34m,\u001b[0m \u001b[0;34m**\u001b[0m\u001b[0mkwds\u001b[0m\u001b[0;34m)\u001b[0m\u001b[0;34m\u001b[0m\u001b[0;34m\u001b[0m\u001b[0m\n\u001b[0m\u001b[1;32m    438\u001b[0m \u001b[0;34m\u001b[0m\u001b[0m\n\u001b[1;32m    439\u001b[0m     \u001b[0;32mreturn\u001b[0m \u001b[0mwrapper\u001b[0m\u001b[0;34m\u001b[0m\u001b[0;34m\u001b[0m\u001b[0m\n",
      "\u001b[0;32m~/anaconda3/lib/python3.9/site-packages/rasterio/__init__.py\u001b[0m in \u001b[0;36mopen\u001b[0;34m(fp, mode, driver, width, height, count, crs, transform, dtype, nodata, sharing, **kwargs)\u001b[0m\n\u001b[1;32m    218\u001b[0m         \u001b[0;31m# None.\u001b[0m\u001b[0;34m\u001b[0m\u001b[0;34m\u001b[0m\u001b[0m\n\u001b[1;32m    219\u001b[0m         \u001b[0;32mif\u001b[0m \u001b[0mmode\u001b[0m \u001b[0;34m==\u001b[0m \u001b[0;34m'r'\u001b[0m\u001b[0;34m:\u001b[0m\u001b[0;34m\u001b[0m\u001b[0;34m\u001b[0m\u001b[0m\n\u001b[0;32m--> 220\u001b[0;31m             \u001b[0ms\u001b[0m \u001b[0;34m=\u001b[0m \u001b[0mDatasetReader\u001b[0m\u001b[0;34m(\u001b[0m\u001b[0mpath\u001b[0m\u001b[0;34m,\u001b[0m \u001b[0mdriver\u001b[0m\u001b[0;34m=\u001b[0m\u001b[0mdriver\u001b[0m\u001b[0;34m,\u001b[0m \u001b[0msharing\u001b[0m\u001b[0;34m=\u001b[0m\u001b[0msharing\u001b[0m\u001b[0;34m,\u001b[0m \u001b[0;34m**\u001b[0m\u001b[0mkwargs\u001b[0m\u001b[0;34m)\u001b[0m\u001b[0;34m\u001b[0m\u001b[0;34m\u001b[0m\u001b[0m\n\u001b[0m\u001b[1;32m    221\u001b[0m         \u001b[0;32melif\u001b[0m \u001b[0mmode\u001b[0m \u001b[0;34m==\u001b[0m \u001b[0;34m\"r+\"\u001b[0m\u001b[0;34m:\u001b[0m\u001b[0;34m\u001b[0m\u001b[0;34m\u001b[0m\u001b[0m\n\u001b[1;32m    222\u001b[0m             s = get_writer_for_path(path, driver=driver)(\n",
      "\u001b[0;32mrasterio/_base.pyx\u001b[0m in \u001b[0;36mrasterio._base.DatasetBase.__init__\u001b[0;34m()\u001b[0m\n",
      "\u001b[0;31mRasterioIOError\u001b[0m: data/datasets/landsat/1480.tif: No such file or directory"
     ]
    }
   ],
   "source": [
    "\n",
    "for i in range(1480, 1490):\n",
    "    dataset.open_as_array(i)"
   ]
  },
  {
   "cell_type": "code",
   "execution_count": null,
   "id": "38f3a71b",
   "metadata": {},
   "outputs": [],
   "source": []
  },
  {
   "cell_type": "markdown",
   "id": "7f216e1d",
   "metadata": {},
   "source": []
  }
 ],
 "metadata": {
  "kernelspec": {
   "display_name": "Python 3 (ipykernel)",
   "language": "python",
   "name": "python3"
  },
  "language_info": {
   "codemirror_mode": {
    "name": "ipython",
    "version": 3
   },
   "file_extension": ".py",
   "mimetype": "text/x-python",
   "name": "python",
   "nbconvert_exporter": "python",
   "pygments_lexer": "ipython3",
   "version": "3.9.13"
  }
 },
 "nbformat": 4,
 "nbformat_minor": 5
}
